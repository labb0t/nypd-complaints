{
 "cells": [
  {
   "cell_type": "code",
   "execution_count": 25,
   "metadata": {
    "ExecuteTime": {
     "end_time": "2020-10-21T23:03:29.384879Z",
     "start_time": "2020-10-21T23:03:29.381410Z"
    }
   },
   "outputs": [],
   "source": [
    "import pandas as pd\n",
    "import censusdata\n",
    "import numpy as np \n",
    "import pickle\n",
    "pd.set_option('display.expand_frame_repr', False)\n",
    "pd.set_option('display.precision', 2)"
   ]
  },
  {
   "cell_type": "markdown",
   "metadata": {},
   "source": [
    "## Load in census data\n",
    "We'll pull some basic demographics from the American Community Survey at the block group level, so we can link it with police precinct data."
   ]
  },
  {
   "cell_type": "code",
   "execution_count": 2,
   "metadata": {
    "ExecuteTime": {
     "end_time": "2020-10-21T22:43:35.537753Z",
     "start_time": "2020-10-21T22:43:26.645234Z"
    }
   },
   "outputs": [],
   "source": [
    "# pull data for just counties in NYC\n",
    "nyc_counties = ['061','005','085','047','081']\n",
    "\n",
    "results = pd.DataFrame()\n",
    "for c in nyc_counties:\n",
    "    county_results = censusdata.download('acs5', 2015,\n",
    "                             censusdata.censusgeo([('state', '36'), ('county', c), ('block group', '*')]),\n",
    "                             ['B23025_003E', 'B23025_005E', 'B15003_001E', 'B15003_002E', 'B15003_003E',\n",
    "                              'B15003_004E', 'B15003_005E', 'B15003_006E', 'B15003_007E', 'B15003_008E',\n",
    "                              'B15003_009E', 'B15003_010E', 'B15003_011E', 'B15003_012E', 'B15003_013E',\n",
    "                              'B15003_014E', 'B15003_015E', 'B15003_016E']) # 'B07011_001E' - unemeployment field that's N/A\n",
    "    results = results.append(county_results)"
   ]
  },
  {
   "cell_type": "code",
   "execution_count": 3,
   "metadata": {
    "ExecuteTime": {
     "end_time": "2020-10-21T22:43:39.553872Z",
     "start_time": "2020-10-21T22:43:39.522311Z"
    }
   },
   "outputs": [
    {
     "data": {
      "text/html": [
       "<div>\n",
       "<style scoped>\n",
       "    .dataframe tbody tr th:only-of-type {\n",
       "        vertical-align: middle;\n",
       "    }\n",
       "\n",
       "    .dataframe tbody tr th {\n",
       "        vertical-align: top;\n",
       "    }\n",
       "\n",
       "    .dataframe thead th {\n",
       "        text-align: right;\n",
       "    }\n",
       "</style>\n",
       "<table border=\"1\" class=\"dataframe\">\n",
       "  <thead>\n",
       "    <tr style=\"text-align: right;\">\n",
       "      <th></th>\n",
       "      <th>index</th>\n",
       "      <th>percent_unemployed</th>\n",
       "      <th>percent_nohs</th>\n",
       "    </tr>\n",
       "  </thead>\n",
       "  <tbody>\n",
       "    <tr>\n",
       "      <th>0</th>\n",
       "      <td>Block Group 1, Census Tract 13, New York Count...</td>\n",
       "      <td>2.27</td>\n",
       "      <td>0.89</td>\n",
       "    </tr>\n",
       "    <tr>\n",
       "      <th>1</th>\n",
       "      <td>Block Group 2, Census Tract 13, New York Count...</td>\n",
       "      <td>4.10</td>\n",
       "      <td>0.00</td>\n",
       "    </tr>\n",
       "    <tr>\n",
       "      <th>2</th>\n",
       "      <td>Block Group 1, Census Tract 14.01, New York Co...</td>\n",
       "      <td>1.76</td>\n",
       "      <td>6.65</td>\n",
       "    </tr>\n",
       "    <tr>\n",
       "      <th>3</th>\n",
       "      <td>Block Group 2, Census Tract 14.01, New York Co...</td>\n",
       "      <td>1.86</td>\n",
       "      <td>7.27</td>\n",
       "    </tr>\n",
       "    <tr>\n",
       "      <th>4</th>\n",
       "      <td>Block Group 1, Census Tract 14.02, New York Co...</td>\n",
       "      <td>4.10</td>\n",
       "      <td>20.16</td>\n",
       "    </tr>\n",
       "  </tbody>\n",
       "</table>\n",
       "</div>"
      ],
      "text/plain": [
       "                                               index  percent_unemployed  percent_nohs\n",
       "0  Block Group 1, Census Tract 13, New York Count...                2.27          0.89\n",
       "1  Block Group 2, Census Tract 13, New York Count...                4.10          0.00\n",
       "2  Block Group 1, Census Tract 14.01, New York Co...                1.76          6.65\n",
       "3  Block Group 2, Census Tract 14.01, New York Co...                1.86          7.27\n",
       "4  Block Group 1, Census Tract 14.02, New York Co...                4.10         20.16"
      ]
     },
     "execution_count": 3,
     "metadata": {},
     "output_type": "execute_result"
    }
   ],
   "source": [
    "# clean results into final fields\n",
    "results['percent_unemployed'] = results.B23025_005E / results.B23025_003E * 100\n",
    "results['percent_nohs'] = (results.B15003_002E + results.B15003_003E + results.B15003_004E\n",
    "                          + results.B15003_005E + results.B15003_006E + results.B15003_007E + results.B15003_008E\n",
    "                          + results.B15003_009E + results.B15003_010E + results.B15003_011E + results.B15003_012E\n",
    "                          + results.B15003_013E + results.B15003_014E +\n",
    "                          results.B15003_015E + results.B15003_016E) / results.B15003_001E * 100\n",
    "results = results[['percent_unemployed', 'percent_nohs']]\n",
    "results = results.reset_index()\n",
    "results.head()"
   ]
  },
  {
   "cell_type": "code",
   "execution_count": 4,
   "metadata": {
    "ExecuteTime": {
     "end_time": "2020-10-21T22:43:44.850934Z",
     "start_time": "2020-10-21T22:43:44.460743Z"
    }
   },
   "outputs": [
    {
     "data": {
      "text/html": [
       "<div>\n",
       "<style scoped>\n",
       "    .dataframe tbody tr th:only-of-type {\n",
       "        vertical-align: middle;\n",
       "    }\n",
       "\n",
       "    .dataframe tbody tr th {\n",
       "        vertical-align: top;\n",
       "    }\n",
       "\n",
       "    .dataframe thead th {\n",
       "        text-align: right;\n",
       "    }\n",
       "</style>\n",
       "<table border=\"1\" class=\"dataframe\">\n",
       "  <thead>\n",
       "    <tr style=\"text-align: right;\">\n",
       "      <th></th>\n",
       "      <th>index</th>\n",
       "      <th>percent_unemployed</th>\n",
       "      <th>percent_nohs</th>\n",
       "      <th>blockgroup</th>\n",
       "    </tr>\n",
       "  </thead>\n",
       "  <tbody>\n",
       "    <tr>\n",
       "      <th>0</th>\n",
       "      <td>Block Group 1, Census Tract 13, New York Count...</td>\n",
       "      <td>2.27</td>\n",
       "      <td>0.89</td>\n",
       "      <td>360610013001</td>\n",
       "    </tr>\n",
       "    <tr>\n",
       "      <th>1</th>\n",
       "      <td>Block Group 2, Census Tract 13, New York Count...</td>\n",
       "      <td>4.10</td>\n",
       "      <td>0.00</td>\n",
       "      <td>360610013002</td>\n",
       "    </tr>\n",
       "    <tr>\n",
       "      <th>2</th>\n",
       "      <td>Block Group 1, Census Tract 14.01, New York Co...</td>\n",
       "      <td>1.76</td>\n",
       "      <td>6.65</td>\n",
       "      <td>360610014011</td>\n",
       "    </tr>\n",
       "    <tr>\n",
       "      <th>3</th>\n",
       "      <td>Block Group 2, Census Tract 14.01, New York Co...</td>\n",
       "      <td>1.86</td>\n",
       "      <td>7.27</td>\n",
       "      <td>360610014012</td>\n",
       "    </tr>\n",
       "    <tr>\n",
       "      <th>4</th>\n",
       "      <td>Block Group 1, Census Tract 14.02, New York Co...</td>\n",
       "      <td>4.10</td>\n",
       "      <td>20.16</td>\n",
       "      <td>360610014021</td>\n",
       "    </tr>\n",
       "  </tbody>\n",
       "</table>\n",
       "</div>"
      ],
      "text/plain": [
       "                                               index  percent_unemployed  percent_nohs    blockgroup\n",
       "0  Block Group 1, Census Tract 13, New York Count...                2.27          0.89  360610013001\n",
       "1  Block Group 2, Census Tract 13, New York Count...                4.10          0.00  360610013002\n",
       "2  Block Group 1, Census Tract 14.01, New York Co...                1.76          6.65  360610014011\n",
       "3  Block Group 2, Census Tract 14.01, New York Co...                1.86          7.27  360610014012\n",
       "4  Block Group 1, Census Tract 14.02, New York Co...                4.10         20.16  360610014021"
      ]
     },
     "execution_count": 4,
     "metadata": {},
     "output_type": "execute_result"
    }
   ],
   "source": [
    "# create blockgroup IDs (for merging) and add to the results dataframe\n",
    "blockgroups = []\n",
    "for i in range(0,len(results)):\n",
    "    geoid = results['index'][i].geo[0][1] + results['index'][i].geo[1][1] + results['index'][i].geo[2][1] + results['index'][i].geo[3][1]\n",
    "    blockgroups.append(geoid)\n",
    "\n",
    "results['blockgroup'] = blockgroups\n",
    "results['blockgroup'] = results['blockgroup'].astype('int')\n",
    "results.head()\n",
    "    "
   ]
  },
  {
   "cell_type": "markdown",
   "metadata": {
    "ExecuteTime": {
     "end_time": "2020-10-21T22:35:54.746333Z",
     "start_time": "2020-10-21T22:35:54.744221Z"
    }
   },
   "source": [
    "## Load precinct data and merge to create final dataset\n",
    "I'll use [this key](https://johnkeefe.net/nyc-police-precinct-and-census-data) from John Keefe that links census blocks to police precincts"
   ]
  },
  {
   "cell_type": "code",
   "execution_count": 6,
   "metadata": {
    "ExecuteTime": {
     "end_time": "2020-10-21T22:43:57.912001Z",
     "start_time": "2020-10-21T22:43:57.893369Z"
    }
   },
   "outputs": [
    {
     "data": {
      "text/html": [
       "<div>\n",
       "<style scoped>\n",
       "    .dataframe tbody tr th:only-of-type {\n",
       "        vertical-align: middle;\n",
       "    }\n",
       "\n",
       "    .dataframe tbody tr th {\n",
       "        vertical-align: top;\n",
       "    }\n",
       "\n",
       "    .dataframe thead th {\n",
       "        text-align: right;\n",
       "    }\n",
       "</style>\n",
       "<table border=\"1\" class=\"dataframe\">\n",
       "  <thead>\n",
       "    <tr style=\"text-align: right;\">\n",
       "      <th></th>\n",
       "      <th>geoid10</th>\n",
       "      <th>precinct_2020</th>\n",
       "    </tr>\n",
       "  </thead>\n",
       "  <tbody>\n",
       "    <tr>\n",
       "      <th>0</th>\n",
       "      <td>360050001000001</td>\n",
       "      <td>NaN</td>\n",
       "    </tr>\n",
       "    <tr>\n",
       "      <th>1</th>\n",
       "      <td>360050001000002</td>\n",
       "      <td>NaN</td>\n",
       "    </tr>\n",
       "    <tr>\n",
       "      <th>2</th>\n",
       "      <td>360050001001000</td>\n",
       "      <td>114.0</td>\n",
       "    </tr>\n",
       "    <tr>\n",
       "      <th>3</th>\n",
       "      <td>360050001001001</td>\n",
       "      <td>114.0</td>\n",
       "    </tr>\n",
       "    <tr>\n",
       "      <th>4</th>\n",
       "      <td>360050001001002</td>\n",
       "      <td>114.0</td>\n",
       "    </tr>\n",
       "  </tbody>\n",
       "</table>\n",
       "</div>"
      ],
      "text/plain": [
       "           geoid10  precinct_2020\n",
       "0  360050001000001            NaN\n",
       "1  360050001000002            NaN\n",
       "2  360050001001000          114.0\n",
       "3  360050001001001          114.0\n",
       "4  360050001001002          114.0"
      ]
     },
     "execution_count": 6,
     "metadata": {},
     "output_type": "execute_result"
    }
   ],
   "source": [
    "precincts = pd.read_csv('precinct_block_key_2020.csv')\n",
    "precincts.head()"
   ]
  },
  {
   "cell_type": "code",
   "execution_count": 7,
   "metadata": {
    "ExecuteTime": {
     "end_time": "2020-10-21T22:44:03.257956Z",
     "start_time": "2020-10-21T22:44:03.194640Z"
    }
   },
   "outputs": [
    {
     "data": {
      "text/html": [
       "<div>\n",
       "<style scoped>\n",
       "    .dataframe tbody tr th:only-of-type {\n",
       "        vertical-align: middle;\n",
       "    }\n",
       "\n",
       "    .dataframe tbody tr th {\n",
       "        vertical-align: top;\n",
       "    }\n",
       "\n",
       "    .dataframe thead th {\n",
       "        text-align: right;\n",
       "    }\n",
       "</style>\n",
       "<table border=\"1\" class=\"dataframe\">\n",
       "  <thead>\n",
       "    <tr style=\"text-align: right;\">\n",
       "      <th></th>\n",
       "      <th>geoid10</th>\n",
       "      <th>precinct_2020</th>\n",
       "      <th>blockgroup</th>\n",
       "    </tr>\n",
       "  </thead>\n",
       "  <tbody>\n",
       "    <tr>\n",
       "      <th>0</th>\n",
       "      <td>360050001000001</td>\n",
       "      <td>NaN</td>\n",
       "      <td>360050001000</td>\n",
       "    </tr>\n",
       "    <tr>\n",
       "      <th>1</th>\n",
       "      <td>360050001000002</td>\n",
       "      <td>NaN</td>\n",
       "      <td>360050001000</td>\n",
       "    </tr>\n",
       "    <tr>\n",
       "      <th>2</th>\n",
       "      <td>360050001001000</td>\n",
       "      <td>114.0</td>\n",
       "      <td>360050001001</td>\n",
       "    </tr>\n",
       "    <tr>\n",
       "      <th>3</th>\n",
       "      <td>360050001001001</td>\n",
       "      <td>114.0</td>\n",
       "      <td>360050001001</td>\n",
       "    </tr>\n",
       "    <tr>\n",
       "      <th>4</th>\n",
       "      <td>360050001001002</td>\n",
       "      <td>114.0</td>\n",
       "      <td>360050001001</td>\n",
       "    </tr>\n",
       "  </tbody>\n",
       "</table>\n",
       "</div>"
      ],
      "text/plain": [
       "           geoid10  precinct_2020    blockgroup\n",
       "0  360050001000001            NaN  360050001000\n",
       "1  360050001000002            NaN  360050001000\n",
       "2  360050001001000          114.0  360050001001\n",
       "3  360050001001001          114.0  360050001001\n",
       "4  360050001001002          114.0  360050001001"
      ]
     },
     "execution_count": 7,
     "metadata": {},
     "output_type": "execute_result"
    }
   ],
   "source": [
    "# load in block <--> precinct crosswalk\n",
    "precincts = pd.read_csv('precinct_block_key_2020.csv')\n",
    "\n",
    "# the file gives us blocks, we'll turn these into block groups to match census data\n",
    "precincts['blockgroup'] = precincts['geoid10'].astype(str).str[:-3].astype(np.int64)\n",
    "precincts.head()"
   ]
  },
  {
   "cell_type": "code",
   "execution_count": 8,
   "metadata": {
    "ExecuteTime": {
     "end_time": "2020-10-21T22:44:09.239679Z",
     "start_time": "2020-10-21T22:44:09.217162Z"
    }
   },
   "outputs": [
    {
     "data": {
      "text/html": [
       "<div>\n",
       "<style scoped>\n",
       "    .dataframe tbody tr th:only-of-type {\n",
       "        vertical-align: middle;\n",
       "    }\n",
       "\n",
       "    .dataframe tbody tr th {\n",
       "        vertical-align: top;\n",
       "    }\n",
       "\n",
       "    .dataframe thead th {\n",
       "        text-align: right;\n",
       "    }\n",
       "</style>\n",
       "<table border=\"1\" class=\"dataframe\">\n",
       "  <thead>\n",
       "    <tr style=\"text-align: right;\">\n",
       "      <th></th>\n",
       "      <th>index</th>\n",
       "      <th>percent_unemployed</th>\n",
       "      <th>percent_nohs</th>\n",
       "      <th>blockgroup</th>\n",
       "      <th>geoid10</th>\n",
       "      <th>precinct_2020</th>\n",
       "    </tr>\n",
       "  </thead>\n",
       "  <tbody>\n",
       "    <tr>\n",
       "      <th>39144</th>\n",
       "      <td>Block Group 1, Census Tract 599, Queens County...</td>\n",
       "      <td>12.28</td>\n",
       "      <td>13.74</td>\n",
       "      <td>360810599001</td>\n",
       "      <td>360810599001001</td>\n",
       "      <td>104.0</td>\n",
       "    </tr>\n",
       "    <tr>\n",
       "      <th>39145</th>\n",
       "      <td>Block Group 1, Census Tract 599, Queens County...</td>\n",
       "      <td>12.28</td>\n",
       "      <td>13.74</td>\n",
       "      <td>360810599001</td>\n",
       "      <td>360810599001002</td>\n",
       "      <td>104.0</td>\n",
       "    </tr>\n",
       "    <tr>\n",
       "      <th>39146</th>\n",
       "      <td>Block Group 1, Census Tract 599, Queens County...</td>\n",
       "      <td>12.28</td>\n",
       "      <td>13.74</td>\n",
       "      <td>360810599001</td>\n",
       "      <td>360810599001003</td>\n",
       "      <td>104.0</td>\n",
       "    </tr>\n",
       "  </tbody>\n",
       "</table>\n",
       "</div>"
      ],
      "text/plain": [
       "                                                   index  percent_unemployed  percent_nohs    blockgroup          geoid10  precinct_2020\n",
       "39144  Block Group 1, Census Tract 599, Queens County...               12.28         13.74  360810599001  360810599001001          104.0\n",
       "39145  Block Group 1, Census Tract 599, Queens County...               12.28         13.74  360810599001  360810599001002          104.0\n",
       "39146  Block Group 1, Census Tract 599, Queens County...               12.28         13.74  360810599001  360810599001003          104.0"
      ]
     },
     "execution_count": 8,
     "metadata": {},
     "output_type": "execute_result"
    }
   ],
   "source": [
    "# add precinct to the results dataframe\n",
    "results = pd.merge(left=results,right=precincts,how='left',on='blockgroup')"
   ]
  },
  {
   "cell_type": "code",
   "execution_count": 10,
   "metadata": {
    "ExecuteTime": {
     "end_time": "2020-10-21T22:44:32.510353Z",
     "start_time": "2020-10-21T22:44:32.498096Z"
    }
   },
   "outputs": [
    {
     "data": {
      "text/html": [
       "<div>\n",
       "<style scoped>\n",
       "    .dataframe tbody tr th:only-of-type {\n",
       "        vertical-align: middle;\n",
       "    }\n",
       "\n",
       "    .dataframe tbody tr th {\n",
       "        vertical-align: top;\n",
       "    }\n",
       "\n",
       "    .dataframe thead th {\n",
       "        text-align: right;\n",
       "    }\n",
       "</style>\n",
       "<table border=\"1\" class=\"dataframe\">\n",
       "  <thead>\n",
       "    <tr style=\"text-align: right;\">\n",
       "      <th></th>\n",
       "      <th>index</th>\n",
       "      <th>percent_unemployed</th>\n",
       "      <th>percent_nohs</th>\n",
       "      <th>blockgroup</th>\n",
       "      <th>geoid10</th>\n",
       "      <th>precinct_2020</th>\n",
       "    </tr>\n",
       "  </thead>\n",
       "  <tbody>\n",
       "    <tr>\n",
       "      <th>39142</th>\n",
       "      <td>Block Group 2, Census Tract 598, Queens County...</td>\n",
       "      <td>4.10</td>\n",
       "      <td>14.13</td>\n",
       "      <td>360810598002</td>\n",
       "      <td>360810598002006</td>\n",
       "      <td>105.0</td>\n",
       "    </tr>\n",
       "    <tr>\n",
       "      <th>39143</th>\n",
       "      <td>Block Group 1, Census Tract 599, Queens County...</td>\n",
       "      <td>12.28</td>\n",
       "      <td>13.74</td>\n",
       "      <td>360810599001</td>\n",
       "      <td>360810599001000</td>\n",
       "      <td>104.0</td>\n",
       "    </tr>\n",
       "    <tr>\n",
       "      <th>39144</th>\n",
       "      <td>Block Group 1, Census Tract 599, Queens County...</td>\n",
       "      <td>12.28</td>\n",
       "      <td>13.74</td>\n",
       "      <td>360810599001</td>\n",
       "      <td>360810599001001</td>\n",
       "      <td>104.0</td>\n",
       "    </tr>\n",
       "    <tr>\n",
       "      <th>39145</th>\n",
       "      <td>Block Group 1, Census Tract 599, Queens County...</td>\n",
       "      <td>12.28</td>\n",
       "      <td>13.74</td>\n",
       "      <td>360810599001</td>\n",
       "      <td>360810599001002</td>\n",
       "      <td>104.0</td>\n",
       "    </tr>\n",
       "    <tr>\n",
       "      <th>39146</th>\n",
       "      <td>Block Group 1, Census Tract 599, Queens County...</td>\n",
       "      <td>12.28</td>\n",
       "      <td>13.74</td>\n",
       "      <td>360810599001</td>\n",
       "      <td>360810599001003</td>\n",
       "      <td>104.0</td>\n",
       "    </tr>\n",
       "  </tbody>\n",
       "</table>\n",
       "</div>"
      ],
      "text/plain": [
       "                                                   index  percent_unemployed  percent_nohs    blockgroup          geoid10  precinct_2020\n",
       "39142  Block Group 2, Census Tract 598, Queens County...                4.10         14.13  360810598002  360810598002006          105.0\n",
       "39143  Block Group 1, Census Tract 599, Queens County...               12.28         13.74  360810599001  360810599001000          104.0\n",
       "39144  Block Group 1, Census Tract 599, Queens County...               12.28         13.74  360810599001  360810599001001          104.0\n",
       "39145  Block Group 1, Census Tract 599, Queens County...               12.28         13.74  360810599001  360810599001002          104.0\n",
       "39146  Block Group 1, Census Tract 599, Queens County...               12.28         13.74  360810599001  360810599001003          104.0"
      ]
     },
     "execution_count": 10,
     "metadata": {},
     "output_type": "execute_result"
    }
   ],
   "source": [
    "results.tail()"
   ]
  },
  {
   "cell_type": "code",
   "execution_count": 14,
   "metadata": {
    "ExecuteTime": {
     "end_time": "2020-10-21T22:56:11.628651Z",
     "start_time": "2020-10-21T22:56:11.608152Z"
    }
   },
   "outputs": [
    {
     "data": {
      "text/html": [
       "<div>\n",
       "<style scoped>\n",
       "    .dataframe tbody tr th:only-of-type {\n",
       "        vertical-align: middle;\n",
       "    }\n",
       "\n",
       "    .dataframe tbody tr th {\n",
       "        vertical-align: top;\n",
       "    }\n",
       "\n",
       "    .dataframe thead tr th {\n",
       "        text-align: left;\n",
       "    }\n",
       "\n",
       "    .dataframe thead tr:last-of-type th {\n",
       "        text-align: right;\n",
       "    }\n",
       "</style>\n",
       "<table border=\"1\" class=\"dataframe\">\n",
       "  <thead>\n",
       "    <tr>\n",
       "      <th></th>\n",
       "      <th colspan=\"2\" halign=\"left\">percent_unemployed</th>\n",
       "      <th colspan=\"2\" halign=\"left\">percent_nohs</th>\n",
       "    </tr>\n",
       "    <tr>\n",
       "      <th></th>\n",
       "      <th>mean</th>\n",
       "      <th>median</th>\n",
       "      <th>mean</th>\n",
       "      <th>median</th>\n",
       "    </tr>\n",
       "    <tr>\n",
       "      <th>precinct_2020</th>\n",
       "      <th></th>\n",
       "      <th></th>\n",
       "      <th></th>\n",
       "      <th></th>\n",
       "    </tr>\n",
       "  </thead>\n",
       "  <tbody>\n",
       "    <tr>\n",
       "      <th>1.0</th>\n",
       "      <td>3.49</td>\n",
       "      <td>2.80</td>\n",
       "      <td>2.82</td>\n",
       "      <td>1.45</td>\n",
       "    </tr>\n",
       "    <tr>\n",
       "      <th>5.0</th>\n",
       "      <td>6.85</td>\n",
       "      <td>6.49</td>\n",
       "      <td>31.23</td>\n",
       "      <td>28.88</td>\n",
       "    </tr>\n",
       "    <tr>\n",
       "      <th>6.0</th>\n",
       "      <td>4.65</td>\n",
       "      <td>4.06</td>\n",
       "      <td>1.01</td>\n",
       "      <td>0.06</td>\n",
       "    </tr>\n",
       "    <tr>\n",
       "      <th>7.0</th>\n",
       "      <td>8.51</td>\n",
       "      <td>7.38</td>\n",
       "      <td>27.21</td>\n",
       "      <td>26.00</td>\n",
       "    </tr>\n",
       "    <tr>\n",
       "      <th>9.0</th>\n",
       "      <td>7.00</td>\n",
       "      <td>5.26</td>\n",
       "      <td>13.85</td>\n",
       "      <td>7.55</td>\n",
       "    </tr>\n",
       "  </tbody>\n",
       "</table>\n",
       "</div>"
      ],
      "text/plain": [
       "              percent_unemployed        percent_nohs       \n",
       "                            mean median         mean median\n",
       "precinct_2020                                              \n",
       "1.0                         3.49   2.80         2.82   1.45\n",
       "5.0                         6.85   6.49        31.23  28.88\n",
       "6.0                         4.65   4.06         1.01   0.06\n",
       "7.0                         8.51   7.38        27.21  26.00\n",
       "9.0                         7.00   5.26        13.85   7.55"
      ]
     },
     "execution_count": 14,
     "metadata": {},
     "output_type": "execute_result"
    }
   ],
   "source": [
    "# groupby precinct, taking average and median of our \n",
    "results.groupby('precinct_2020').agg({'percent_unemployed': ['mean','median'],'percent_nohs': ['mean','median']}).head()"
   ]
  },
  {
   "cell_type": "code",
   "execution_count": 23,
   "metadata": {
    "ExecuteTime": {
     "end_time": "2020-10-21T23:01:35.156235Z",
     "start_time": "2020-10-21T23:01:35.132910Z"
    }
   },
   "outputs": [
    {
     "data": {
      "text/html": [
       "<div>\n",
       "<style scoped>\n",
       "    .dataframe tbody tr th:only-of-type {\n",
       "        vertical-align: middle;\n",
       "    }\n",
       "\n",
       "    .dataframe tbody tr th {\n",
       "        vertical-align: top;\n",
       "    }\n",
       "\n",
       "    .dataframe thead th {\n",
       "        text-align: right;\n",
       "    }\n",
       "</style>\n",
       "<table border=\"1\" class=\"dataframe\">\n",
       "  <thead>\n",
       "    <tr style=\"text-align: right;\">\n",
       "      <th></th>\n",
       "      <th>precinct_2020</th>\n",
       "      <th>percent_unemployed_mean</th>\n",
       "      <th>percent_unemployed_median</th>\n",
       "      <th>percent_nohs_mean</th>\n",
       "      <th>percent_nohs_median</th>\n",
       "    </tr>\n",
       "  </thead>\n",
       "  <tbody>\n",
       "    <tr>\n",
       "      <th>0</th>\n",
       "      <td>1.0</td>\n",
       "      <td>3.49</td>\n",
       "      <td>2.80</td>\n",
       "      <td>2.82</td>\n",
       "      <td>1.45</td>\n",
       "    </tr>\n",
       "    <tr>\n",
       "      <th>1</th>\n",
       "      <td>5.0</td>\n",
       "      <td>6.85</td>\n",
       "      <td>6.49</td>\n",
       "      <td>31.23</td>\n",
       "      <td>28.88</td>\n",
       "    </tr>\n",
       "    <tr>\n",
       "      <th>2</th>\n",
       "      <td>6.0</td>\n",
       "      <td>4.65</td>\n",
       "      <td>4.06</td>\n",
       "      <td>1.01</td>\n",
       "      <td>0.06</td>\n",
       "    </tr>\n",
       "    <tr>\n",
       "      <th>3</th>\n",
       "      <td>7.0</td>\n",
       "      <td>8.51</td>\n",
       "      <td>7.38</td>\n",
       "      <td>27.21</td>\n",
       "      <td>26.00</td>\n",
       "    </tr>\n",
       "    <tr>\n",
       "      <th>4</th>\n",
       "      <td>9.0</td>\n",
       "      <td>7.00</td>\n",
       "      <td>5.26</td>\n",
       "      <td>13.85</td>\n",
       "      <td>7.55</td>\n",
       "    </tr>\n",
       "  </tbody>\n",
       "</table>\n",
       "</div>"
      ],
      "text/plain": [
       "   precinct_2020  percent_unemployed_mean  percent_unemployed_median  percent_nohs_mean  percent_nohs_median\n",
       "0            1.0                     3.49                       2.80               2.82                 1.45\n",
       "1            5.0                     6.85                       6.49              31.23                28.88\n",
       "2            6.0                     4.65                       4.06               1.01                 0.06\n",
       "3            7.0                     8.51                       7.38              27.21                26.00\n",
       "4            9.0                     7.00                       5.26              13.85                 7.55"
      ]
     },
     "execution_count": 23,
     "metadata": {},
     "output_type": "execute_result"
    }
   ],
   "source": [
    "# create dataframe from groupby\n",
    "census_df = results.groupby('precinct_2020').agg({'percent_unemployed': ['mean','median'],'percent_nohs': ['mean','median']})\n",
    "\n",
    "# rename columns and reset index\n",
    "census_df.columns = ['percent_unemployed_mean','percent_unemployed_median',\n",
    "                    'percent_nohs_mean', 'percent_nohs_median']\n",
    "census_df = census_df.reset_index()\n",
    "census_df.head()"
   ]
  },
  {
   "cell_type": "markdown",
   "metadata": {},
   "source": [
    "## Export final dataset as pickle"
   ]
  },
  {
   "cell_type": "code",
   "execution_count": 26,
   "metadata": {
    "ExecuteTime": {
     "end_time": "2020-10-21T23:04:01.717908Z",
     "start_time": "2020-10-21T23:04:01.714639Z"
    }
   },
   "outputs": [],
   "source": [
    "with open('final_census_data.pickle', 'wb') as to_write:\n",
    "    pickle.dump(census_df, to_write)"
   ]
  }
 ],
 "metadata": {
  "kernelspec": {
   "display_name": "Python 3",
   "language": "python",
   "name": "python3"
  },
  "language_info": {
   "codemirror_mode": {
    "name": "ipython",
    "version": 3
   },
   "file_extension": ".py",
   "mimetype": "text/x-python",
   "name": "python",
   "nbconvert_exporter": "python",
   "pygments_lexer": "ipython3",
   "version": "3.8.3"
  },
  "toc": {
   "base_numbering": 1,
   "nav_menu": {},
   "number_sections": true,
   "sideBar": true,
   "skip_h1_title": false,
   "title_cell": "Table of Contents",
   "title_sidebar": "Contents",
   "toc_cell": false,
   "toc_position": {},
   "toc_section_display": true,
   "toc_window_display": true
  }
 },
 "nbformat": 4,
 "nbformat_minor": 4
}
