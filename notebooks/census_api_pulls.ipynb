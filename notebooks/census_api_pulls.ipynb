{
 "cells": [
  {
   "cell_type": "code",
   "execution_count": 11,
   "metadata": {
    "ExecuteTime": {
     "end_time": "2021-01-12T23:47:37.094538Z",
     "start_time": "2021-01-12T23:47:37.090486Z"
    }
   },
   "outputs": [],
   "source": [
    "import sys\n",
    "import os\n",
    "\n",
    "import pandas as pd\n",
    "import censusdata\n",
    "import numpy as np \n",
    "import seaborn as sns\n",
    "import pickle\n",
    "pd.set_option('display.expand_frame_repr', False)\n",
    "pd.set_option('display.precision', 2)"
   ]
  },
  {
   "cell_type": "markdown",
   "metadata": {},
   "source": [
    "## Load in census data\n",
    "I'll pull some basic demographics from the American Community Survey at the block group level, so that it can be linked with police precinct data. I referred to the [census bureau's table shells](https://www.census.gov/programs-surveys/acs/technical-documentation/summary-file-documentation.2015.html) tool to determine which fields to pull (note: some economic indicators I was interested in, like median income, weren't available at the block group level). "
   ]
  },
  {
   "cell_type": "markdown",
   "metadata": {},
   "source": [
    "### Census Fields Needed"
   ]
  },
  {
   "cell_type": "code",
   "execution_count": 12,
   "metadata": {
    "ExecuteTime": {
     "end_time": "2021-01-12T23:47:37.100791Z",
     "start_time": "2021-01-12T23:47:37.097018Z"
    }
   },
   "outputs": [],
   "source": [
    "# create lists of census fields to pull\n",
    "unemployment_fields = ['B23025_003E', 'B23025_005E']\n",
    "edu_fields = ['B15003_001E', 'B15003_002E', 'B15003_003E','B15003_004E', 'B15003_005E', 'B15003_006E', \n",
    "              'B15003_007E', 'B15003_008E','B15003_009E', 'B15003_010E', 'B15003_011E', 'B15003_012E', \n",
    "              'B15003_013E','B15003_014E', 'B15003_015E', 'B15003_016E']\n",
    "ethnicity_fields = ['B03002_003E','B03002_001E']\n",
    "\n",
    "all_census_fields = ethnicity_fields + unemployment_fields + edu_fields"
   ]
  },
  {
   "cell_type": "code",
   "execution_count": 13,
   "metadata": {
    "ExecuteTime": {
     "end_time": "2021-01-12T23:47:37.105688Z",
     "start_time": "2021-01-12T23:47:37.102965Z"
    }
   },
   "outputs": [],
   "source": [
    "# create list of counties in NYC\n",
    "nyc_counties = ['061','005','085','047','081']"
   ]
  },
  {
   "cell_type": "markdown",
   "metadata": {},
   "source": [
    "### Pull Census Data"
   ]
  },
  {
   "cell_type": "code",
   "execution_count": 14,
   "metadata": {
    "ExecuteTime": {
     "end_time": "2021-01-12T23:47:46.272855Z",
     "start_time": "2021-01-12T23:47:37.107852Z"
    }
   },
   "outputs": [],
   "source": [
    "# pull data for just counties in NYC\n",
    "nyc_counties = ['061','005','085','047','081']\n",
    "\n",
    "results = pd.DataFrame()\n",
    "for c in nyc_counties:\n",
    "    county_results = censusdata.download('acs5', 2015,\n",
    "                             censusdata.censusgeo([('state', '36'), ('county', c), ('block group', '*')]),\n",
    "                             all_census_fields)\n",
    "    results = results.append(county_results)"
   ]
  },
  {
   "cell_type": "markdown",
   "metadata": {},
   "source": [
    "### Calculate final metrics"
   ]
  },
  {
   "cell_type": "code",
   "execution_count": 15,
   "metadata": {
    "ExecuteTime": {
     "end_time": "2021-01-12T23:47:46.290136Z",
     "start_time": "2021-01-12T23:47:46.274543Z"
    }
   },
   "outputs": [
    {
     "data": {
      "text/html": [
       "<div>\n",
       "<style scoped>\n",
       "    .dataframe tbody tr th:only-of-type {\n",
       "        vertical-align: middle;\n",
       "    }\n",
       "\n",
       "    .dataframe tbody tr th {\n",
       "        vertical-align: top;\n",
       "    }\n",
       "\n",
       "    .dataframe thead th {\n",
       "        text-align: right;\n",
       "    }\n",
       "</style>\n",
       "<table border=\"1\" class=\"dataframe\">\n",
       "  <thead>\n",
       "    <tr style=\"text-align: right;\">\n",
       "      <th></th>\n",
       "      <th>index</th>\n",
       "      <th>percent_unemployed</th>\n",
       "      <th>percent_nohs</th>\n",
       "      <th>percent_poc</th>\n",
       "    </tr>\n",
       "  </thead>\n",
       "  <tbody>\n",
       "    <tr>\n",
       "      <th>0</th>\n",
       "      <td>Block Group 1, Census Tract 13, New York Count...</td>\n",
       "      <td>2.27</td>\n",
       "      <td>0.89</td>\n",
       "      <td>29.54</td>\n",
       "    </tr>\n",
       "    <tr>\n",
       "      <th>1</th>\n",
       "      <td>Block Group 2, Census Tract 13, New York Count...</td>\n",
       "      <td>4.10</td>\n",
       "      <td>0.00</td>\n",
       "      <td>38.09</td>\n",
       "    </tr>\n",
       "    <tr>\n",
       "      <th>2</th>\n",
       "      <td>Block Group 1, Census Tract 14.01, New York Co...</td>\n",
       "      <td>1.76</td>\n",
       "      <td>6.65</td>\n",
       "      <td>35.44</td>\n",
       "    </tr>\n",
       "    <tr>\n",
       "      <th>3</th>\n",
       "      <td>Block Group 2, Census Tract 14.01, New York Co...</td>\n",
       "      <td>1.86</td>\n",
       "      <td>7.27</td>\n",
       "      <td>32.74</td>\n",
       "    </tr>\n",
       "    <tr>\n",
       "      <th>4</th>\n",
       "      <td>Block Group 1, Census Tract 14.02, New York Co...</td>\n",
       "      <td>4.10</td>\n",
       "      <td>20.16</td>\n",
       "      <td>63.40</td>\n",
       "    </tr>\n",
       "  </tbody>\n",
       "</table>\n",
       "</div>"
      ],
      "text/plain": [
       "                                               index  percent_unemployed  percent_nohs  percent_poc\n",
       "0  Block Group 1, Census Tract 13, New York Count...                2.27          0.89        29.54\n",
       "1  Block Group 2, Census Tract 13, New York Count...                4.10          0.00        38.09\n",
       "2  Block Group 1, Census Tract 14.01, New York Co...                1.76          6.65        35.44\n",
       "3  Block Group 2, Census Tract 14.01, New York Co...                1.86          7.27        32.74\n",
       "4  Block Group 1, Census Tract 14.02, New York Co...                4.10         20.16        63.40"
      ]
     },
     "execution_count": 15,
     "metadata": {},
     "output_type": "execute_result"
    }
   ],
   "source": [
    "# number unemployed / number in civilian labor force\n",
    "results['percent_unemployed'] = results.B23025_005E / results.B23025_003E * 100\n",
    "\n",
    "# sum of those with any education less than high school diploma, divided by total population\n",
    "results['percent_nohs'] = results[edu_fields[1:]].sum(axis=1) / results.B15003_001E * 100\n",
    "\n",
    "# percentage of total who don't identify as latino, white alone\n",
    "results['percent_poc'] = 100 - results.B03002_003E / results.B03002_001E * 100\n",
    "\n",
    "\n",
    "results = results[['percent_unemployed', 'percent_nohs','percent_poc']]\n",
    "results = results.reset_index()\n",
    "results.head()"
   ]
  },
  {
   "cell_type": "code",
   "execution_count": 16,
   "metadata": {
    "ExecuteTime": {
     "end_time": "2021-01-12T23:47:46.670292Z",
     "start_time": "2021-01-12T23:47:46.291585Z"
    }
   },
   "outputs": [
    {
     "data": {
      "text/html": [
       "<div>\n",
       "<style scoped>\n",
       "    .dataframe tbody tr th:only-of-type {\n",
       "        vertical-align: middle;\n",
       "    }\n",
       "\n",
       "    .dataframe tbody tr th {\n",
       "        vertical-align: top;\n",
       "    }\n",
       "\n",
       "    .dataframe thead th {\n",
       "        text-align: right;\n",
       "    }\n",
       "</style>\n",
       "<table border=\"1\" class=\"dataframe\">\n",
       "  <thead>\n",
       "    <tr style=\"text-align: right;\">\n",
       "      <th></th>\n",
       "      <th>index</th>\n",
       "      <th>percent_unemployed</th>\n",
       "      <th>percent_nohs</th>\n",
       "      <th>percent_poc</th>\n",
       "      <th>blockgroup</th>\n",
       "    </tr>\n",
       "  </thead>\n",
       "  <tbody>\n",
       "    <tr>\n",
       "      <th>0</th>\n",
       "      <td>Block Group 1, Census Tract 13, New York Count...</td>\n",
       "      <td>2.27</td>\n",
       "      <td>0.89</td>\n",
       "      <td>29.54</td>\n",
       "      <td>360610013001</td>\n",
       "    </tr>\n",
       "    <tr>\n",
       "      <th>1</th>\n",
       "      <td>Block Group 2, Census Tract 13, New York Count...</td>\n",
       "      <td>4.10</td>\n",
       "      <td>0.00</td>\n",
       "      <td>38.09</td>\n",
       "      <td>360610013002</td>\n",
       "    </tr>\n",
       "    <tr>\n",
       "      <th>2</th>\n",
       "      <td>Block Group 1, Census Tract 14.01, New York Co...</td>\n",
       "      <td>1.76</td>\n",
       "      <td>6.65</td>\n",
       "      <td>35.44</td>\n",
       "      <td>360610014011</td>\n",
       "    </tr>\n",
       "    <tr>\n",
       "      <th>3</th>\n",
       "      <td>Block Group 2, Census Tract 14.01, New York Co...</td>\n",
       "      <td>1.86</td>\n",
       "      <td>7.27</td>\n",
       "      <td>32.74</td>\n",
       "      <td>360610014012</td>\n",
       "    </tr>\n",
       "    <tr>\n",
       "      <th>4</th>\n",
       "      <td>Block Group 1, Census Tract 14.02, New York Co...</td>\n",
       "      <td>4.10</td>\n",
       "      <td>20.16</td>\n",
       "      <td>63.40</td>\n",
       "      <td>360610014021</td>\n",
       "    </tr>\n",
       "  </tbody>\n",
       "</table>\n",
       "</div>"
      ],
      "text/plain": [
       "                                               index  percent_unemployed  percent_nohs  percent_poc    blockgroup\n",
       "0  Block Group 1, Census Tract 13, New York Count...                2.27          0.89        29.54  360610013001\n",
       "1  Block Group 2, Census Tract 13, New York Count...                4.10          0.00        38.09  360610013002\n",
       "2  Block Group 1, Census Tract 14.01, New York Co...                1.76          6.65        35.44  360610014011\n",
       "3  Block Group 2, Census Tract 14.01, New York Co...                1.86          7.27        32.74  360610014012\n",
       "4  Block Group 1, Census Tract 14.02, New York Co...                4.10         20.16        63.40  360610014021"
      ]
     },
     "execution_count": 16,
     "metadata": {},
     "output_type": "execute_result"
    }
   ],
   "source": [
    "# create blockgroup IDs to align with the precinct data keys\n",
    "blockgroups = []\n",
    "for i in range(0,len(results)):\n",
    "    geoid = results['index'][i].geo[0][1] + results['index'][i].geo[1][1] + results['index'][i].geo[2][1] + results['index'][i].geo[3][1]\n",
    "    blockgroups.append(geoid)\n",
    "\n",
    "results['blockgroup'] = blockgroups\n",
    "results['blockgroup'] = results['blockgroup'].astype('int')\n",
    "results.head()"
   ]
  },
  {
   "cell_type": "markdown",
   "metadata": {
    "ExecuteTime": {
     "end_time": "2020-10-21T22:35:54.746333Z",
     "start_time": "2020-10-21T22:35:54.744221Z"
    }
   },
   "source": [
    "## Load precinct data and merge to create final dataset\n",
    "I'm using [this key](https://johnkeefe.net/nyc-police-precinct-and-census-data) from John Keefe that links census blocks to police precincts."
   ]
  },
  {
   "cell_type": "code",
   "execution_count": 17,
   "metadata": {
    "ExecuteTime": {
     "end_time": "2021-01-12T23:47:46.726883Z",
     "start_time": "2021-01-12T23:47:46.673346Z"
    }
   },
   "outputs": [
    {
     "data": {
      "text/html": [
       "<div>\n",
       "<style scoped>\n",
       "    .dataframe tbody tr th:only-of-type {\n",
       "        vertical-align: middle;\n",
       "    }\n",
       "\n",
       "    .dataframe tbody tr th {\n",
       "        vertical-align: top;\n",
       "    }\n",
       "\n",
       "    .dataframe thead th {\n",
       "        text-align: right;\n",
       "    }\n",
       "</style>\n",
       "<table border=\"1\" class=\"dataframe\">\n",
       "  <thead>\n",
       "    <tr style=\"text-align: right;\">\n",
       "      <th></th>\n",
       "      <th>geoid10</th>\n",
       "      <th>precinct_2020</th>\n",
       "      <th>blockgroup</th>\n",
       "    </tr>\n",
       "  </thead>\n",
       "  <tbody>\n",
       "    <tr>\n",
       "      <th>0</th>\n",
       "      <td>360050001000001</td>\n",
       "      <td>NaN</td>\n",
       "      <td>360050001000</td>\n",
       "    </tr>\n",
       "    <tr>\n",
       "      <th>1</th>\n",
       "      <td>360050001000002</td>\n",
       "      <td>NaN</td>\n",
       "      <td>360050001000</td>\n",
       "    </tr>\n",
       "    <tr>\n",
       "      <th>2</th>\n",
       "      <td>360050001001000</td>\n",
       "      <td>114.0</td>\n",
       "      <td>360050001001</td>\n",
       "    </tr>\n",
       "    <tr>\n",
       "      <th>3</th>\n",
       "      <td>360050001001001</td>\n",
       "      <td>114.0</td>\n",
       "      <td>360050001001</td>\n",
       "    </tr>\n",
       "    <tr>\n",
       "      <th>4</th>\n",
       "      <td>360050001001002</td>\n",
       "      <td>114.0</td>\n",
       "      <td>360050001001</td>\n",
       "    </tr>\n",
       "  </tbody>\n",
       "</table>\n",
       "</div>"
      ],
      "text/plain": [
       "           geoid10  precinct_2020    blockgroup\n",
       "0  360050001000001            NaN  360050001000\n",
       "1  360050001000002            NaN  360050001000\n",
       "2  360050001001000          114.0  360050001001\n",
       "3  360050001001001          114.0  360050001001\n",
       "4  360050001001002          114.0  360050001001"
      ]
     },
     "execution_count": 17,
     "metadata": {},
     "output_type": "execute_result"
    }
   ],
   "source": [
    "# load in block <--> precinct crosswalk\n",
    "precincts = pd.read_csv('../data/precinct_block_key_2020.csv')\n",
    "\n",
    "# the file gives us blocks, we'll turn these into block groups to match census data\n",
    "precincts['blockgroup'] = precincts['geoid10'].astype(str).str[:-3].astype(np.int64)\n",
    "precincts.head()"
   ]
  },
  {
   "cell_type": "code",
   "execution_count": 18,
   "metadata": {
    "ExecuteTime": {
     "end_time": "2021-01-12T23:47:46.745311Z",
     "start_time": "2021-01-12T23:47:46.728798Z"
    }
   },
   "outputs": [],
   "source": [
    "# add precinct to the results dataframe\n",
    "results = pd.merge(left=results,right=precincts,how='left',on='blockgroup')"
   ]
  },
  {
   "cell_type": "code",
   "execution_count": 19,
   "metadata": {
    "ExecuteTime": {
     "end_time": "2021-01-12T23:47:46.756493Z",
     "start_time": "2021-01-12T23:47:46.747098Z"
    }
   },
   "outputs": [
    {
     "data": {
      "text/html": [
       "<div>\n",
       "<style scoped>\n",
       "    .dataframe tbody tr th:only-of-type {\n",
       "        vertical-align: middle;\n",
       "    }\n",
       "\n",
       "    .dataframe tbody tr th {\n",
       "        vertical-align: top;\n",
       "    }\n",
       "\n",
       "    .dataframe thead th {\n",
       "        text-align: right;\n",
       "    }\n",
       "</style>\n",
       "<table border=\"1\" class=\"dataframe\">\n",
       "  <thead>\n",
       "    <tr style=\"text-align: right;\">\n",
       "      <th></th>\n",
       "      <th>index</th>\n",
       "      <th>percent_unemployed</th>\n",
       "      <th>percent_nohs</th>\n",
       "      <th>percent_poc</th>\n",
       "      <th>blockgroup</th>\n",
       "      <th>geoid10</th>\n",
       "      <th>precinct_2020</th>\n",
       "    </tr>\n",
       "  </thead>\n",
       "  <tbody>\n",
       "    <tr>\n",
       "      <th>0</th>\n",
       "      <td>Block Group 1, Census Tract 13, New York Count...</td>\n",
       "      <td>2.27</td>\n",
       "      <td>0.89</td>\n",
       "      <td>29.54</td>\n",
       "      <td>360610013001</td>\n",
       "      <td>360610013001000</td>\n",
       "      <td>1.0</td>\n",
       "    </tr>\n",
       "    <tr>\n",
       "      <th>1</th>\n",
       "      <td>Block Group 1, Census Tract 13, New York Count...</td>\n",
       "      <td>2.27</td>\n",
       "      <td>0.89</td>\n",
       "      <td>29.54</td>\n",
       "      <td>360610013001</td>\n",
       "      <td>360610013001001</td>\n",
       "      <td>1.0</td>\n",
       "    </tr>\n",
       "    <tr>\n",
       "      <th>2</th>\n",
       "      <td>Block Group 1, Census Tract 13, New York Count...</td>\n",
       "      <td>2.27</td>\n",
       "      <td>0.89</td>\n",
       "      <td>29.54</td>\n",
       "      <td>360610013001</td>\n",
       "      <td>360610013001002</td>\n",
       "      <td>1.0</td>\n",
       "    </tr>\n",
       "    <tr>\n",
       "      <th>3</th>\n",
       "      <td>Block Group 1, Census Tract 13, New York Count...</td>\n",
       "      <td>2.27</td>\n",
       "      <td>0.89</td>\n",
       "      <td>29.54</td>\n",
       "      <td>360610013001</td>\n",
       "      <td>360610013001003</td>\n",
       "      <td>1.0</td>\n",
       "    </tr>\n",
       "    <tr>\n",
       "      <th>4</th>\n",
       "      <td>Block Group 1, Census Tract 13, New York Count...</td>\n",
       "      <td>2.27</td>\n",
       "      <td>0.89</td>\n",
       "      <td>29.54</td>\n",
       "      <td>360610013001</td>\n",
       "      <td>360610013001004</td>\n",
       "      <td>1.0</td>\n",
       "    </tr>\n",
       "  </tbody>\n",
       "</table>\n",
       "</div>"
      ],
      "text/plain": [
       "                                               index  percent_unemployed  percent_nohs  percent_poc    blockgroup          geoid10  precinct_2020\n",
       "0  Block Group 1, Census Tract 13, New York Count...                2.27          0.89        29.54  360610013001  360610013001000            1.0\n",
       "1  Block Group 1, Census Tract 13, New York Count...                2.27          0.89        29.54  360610013001  360610013001001            1.0\n",
       "2  Block Group 1, Census Tract 13, New York Count...                2.27          0.89        29.54  360610013001  360610013001002            1.0\n",
       "3  Block Group 1, Census Tract 13, New York Count...                2.27          0.89        29.54  360610013001  360610013001003            1.0\n",
       "4  Block Group 1, Census Tract 13, New York Count...                2.27          0.89        29.54  360610013001  360610013001004            1.0"
      ]
     },
     "execution_count": 19,
     "metadata": {},
     "output_type": "execute_result"
    }
   ],
   "source": [
    "results.head()"
   ]
  },
  {
   "cell_type": "code",
   "execution_count": 20,
   "metadata": {
    "ExecuteTime": {
     "end_time": "2021-01-12T23:47:46.784538Z",
     "start_time": "2021-01-12T23:47:46.758161Z"
    }
   },
   "outputs": [
    {
     "data": {
      "text/html": [
       "<div>\n",
       "<style scoped>\n",
       "    .dataframe tbody tr th:only-of-type {\n",
       "        vertical-align: middle;\n",
       "    }\n",
       "\n",
       "    .dataframe tbody tr th {\n",
       "        vertical-align: top;\n",
       "    }\n",
       "\n",
       "    .dataframe thead tr th {\n",
       "        text-align: left;\n",
       "    }\n",
       "\n",
       "    .dataframe thead tr:last-of-type th {\n",
       "        text-align: right;\n",
       "    }\n",
       "</style>\n",
       "<table border=\"1\" class=\"dataframe\">\n",
       "  <thead>\n",
       "    <tr>\n",
       "      <th></th>\n",
       "      <th colspan=\"2\" halign=\"left\">percent_unemployed</th>\n",
       "      <th colspan=\"2\" halign=\"left\">percent_nohs</th>\n",
       "    </tr>\n",
       "    <tr>\n",
       "      <th></th>\n",
       "      <th>mean</th>\n",
       "      <th>median</th>\n",
       "      <th>mean</th>\n",
       "      <th>median</th>\n",
       "    </tr>\n",
       "    <tr>\n",
       "      <th>precinct_2020</th>\n",
       "      <th></th>\n",
       "      <th></th>\n",
       "      <th></th>\n",
       "      <th></th>\n",
       "    </tr>\n",
       "  </thead>\n",
       "  <tbody>\n",
       "    <tr>\n",
       "      <th>1.0</th>\n",
       "      <td>3.49</td>\n",
       "      <td>2.80</td>\n",
       "      <td>2.82</td>\n",
       "      <td>1.45</td>\n",
       "    </tr>\n",
       "    <tr>\n",
       "      <th>5.0</th>\n",
       "      <td>6.85</td>\n",
       "      <td>6.49</td>\n",
       "      <td>31.23</td>\n",
       "      <td>28.88</td>\n",
       "    </tr>\n",
       "    <tr>\n",
       "      <th>6.0</th>\n",
       "      <td>4.65</td>\n",
       "      <td>4.06</td>\n",
       "      <td>1.01</td>\n",
       "      <td>0.06</td>\n",
       "    </tr>\n",
       "    <tr>\n",
       "      <th>7.0</th>\n",
       "      <td>8.51</td>\n",
       "      <td>7.38</td>\n",
       "      <td>27.21</td>\n",
       "      <td>26.00</td>\n",
       "    </tr>\n",
       "    <tr>\n",
       "      <th>9.0</th>\n",
       "      <td>7.00</td>\n",
       "      <td>5.26</td>\n",
       "      <td>13.85</td>\n",
       "      <td>7.55</td>\n",
       "    </tr>\n",
       "  </tbody>\n",
       "</table>\n",
       "</div>"
      ],
      "text/plain": [
       "              percent_unemployed        percent_nohs       \n",
       "                            mean median         mean median\n",
       "precinct_2020                                              \n",
       "1.0                         3.49   2.80         2.82   1.45\n",
       "5.0                         6.85   6.49        31.23  28.88\n",
       "6.0                         4.65   4.06         1.01   0.06\n",
       "7.0                         8.51   7.38        27.21  26.00\n",
       "9.0                         7.00   5.26        13.85   7.55"
      ]
     },
     "execution_count": 20,
     "metadata": {},
     "output_type": "execute_result"
    }
   ],
   "source": [
    "# groupby precinct, taking average and median of our metrics\n",
    "results.groupby('precinct_2020').agg({'percent_unemployed': ['mean','median'],'percent_nohs': ['mean','median']}).head()"
   ]
  },
  {
   "cell_type": "code",
   "execution_count": 21,
   "metadata": {
    "ExecuteTime": {
     "end_time": "2021-01-12T23:47:46.808015Z",
     "start_time": "2021-01-12T23:47:46.786564Z"
    }
   },
   "outputs": [
    {
     "data": {
      "text/html": [
       "<div>\n",
       "<style scoped>\n",
       "    .dataframe tbody tr th:only-of-type {\n",
       "        vertical-align: middle;\n",
       "    }\n",
       "\n",
       "    .dataframe tbody tr th {\n",
       "        vertical-align: top;\n",
       "    }\n",
       "\n",
       "    .dataframe thead th {\n",
       "        text-align: right;\n",
       "    }\n",
       "</style>\n",
       "<table border=\"1\" class=\"dataframe\">\n",
       "  <thead>\n",
       "    <tr style=\"text-align: right;\">\n",
       "      <th></th>\n",
       "      <th>precinct_2020</th>\n",
       "      <th>percent_unemployed_mean</th>\n",
       "      <th>percent_unemployed_median</th>\n",
       "      <th>percent_nohs_mean</th>\n",
       "      <th>percent_nohs_median</th>\n",
       "      <th>percent_poc_mean</th>\n",
       "      <th>percent_poc_median</th>\n",
       "    </tr>\n",
       "  </thead>\n",
       "  <tbody>\n",
       "    <tr>\n",
       "      <th>0</th>\n",
       "      <td>1.0</td>\n",
       "      <td>3.49</td>\n",
       "      <td>2.80</td>\n",
       "      <td>2.82</td>\n",
       "      <td>1.45</td>\n",
       "      <td>28.48</td>\n",
       "      <td>30.60</td>\n",
       "    </tr>\n",
       "    <tr>\n",
       "      <th>1</th>\n",
       "      <td>5.0</td>\n",
       "      <td>6.85</td>\n",
       "      <td>6.49</td>\n",
       "      <td>31.23</td>\n",
       "      <td>28.88</td>\n",
       "      <td>72.82</td>\n",
       "      <td>84.97</td>\n",
       "    </tr>\n",
       "    <tr>\n",
       "      <th>2</th>\n",
       "      <td>6.0</td>\n",
       "      <td>4.65</td>\n",
       "      <td>4.06</td>\n",
       "      <td>1.01</td>\n",
       "      <td>0.06</td>\n",
       "      <td>18.79</td>\n",
       "      <td>17.53</td>\n",
       "    </tr>\n",
       "    <tr>\n",
       "      <th>3</th>\n",
       "      <td>7.0</td>\n",
       "      <td>8.51</td>\n",
       "      <td>7.38</td>\n",
       "      <td>27.21</td>\n",
       "      <td>26.00</td>\n",
       "      <td>71.96</td>\n",
       "      <td>77.23</td>\n",
       "    </tr>\n",
       "    <tr>\n",
       "      <th>4</th>\n",
       "      <td>9.0</td>\n",
       "      <td>7.00</td>\n",
       "      <td>5.26</td>\n",
       "      <td>13.85</td>\n",
       "      <td>7.55</td>\n",
       "      <td>48.53</td>\n",
       "      <td>37.54</td>\n",
       "    </tr>\n",
       "  </tbody>\n",
       "</table>\n",
       "</div>"
      ],
      "text/plain": [
       "   precinct_2020  percent_unemployed_mean  percent_unemployed_median  percent_nohs_mean  percent_nohs_median  percent_poc_mean  percent_poc_median\n",
       "0            1.0                     3.49                       2.80               2.82                 1.45             28.48               30.60\n",
       "1            5.0                     6.85                       6.49              31.23                28.88             72.82               84.97\n",
       "2            6.0                     4.65                       4.06               1.01                 0.06             18.79               17.53\n",
       "3            7.0                     8.51                       7.38              27.21                26.00             71.96               77.23\n",
       "4            9.0                     7.00                       5.26              13.85                 7.55             48.53               37.54"
      ]
     },
     "execution_count": 21,
     "metadata": {},
     "output_type": "execute_result"
    }
   ],
   "source": [
    "# create dataframe from groupby\n",
    "census_df = results.groupby('precinct_2020').agg({'percent_unemployed': ['mean','median'],'percent_nohs': ['mean','median'],'percent_poc': ['mean','median']})\n",
    "\n",
    "# rename columns and reset index\n",
    "census_df.columns = ['percent_unemployed_mean','percent_unemployed_median',\n",
    "                    'percent_nohs_mean', 'percent_nohs_median','percent_poc_mean','percent_poc_median']\n",
    "census_df = census_df.reset_index()\n",
    "census_df.head()"
   ]
  },
  {
   "cell_type": "markdown",
   "metadata": {},
   "source": [
    "## Inspect Data for outliers and multicollinearity"
   ]
  },
  {
   "cell_type": "code",
   "execution_count": 22,
   "metadata": {
    "ExecuteTime": {
     "end_time": "2021-01-12T23:47:51.886644Z",
     "start_time": "2021-01-12T23:47:46.809892Z"
    }
   },
   "outputs": [
    {
     "data": {
      "image/png": "[encoded data removed]",
      "text/plain": [
       "<Figure size 1260x1260 with 35 Axes>"
      ]
     },
     "metadata": {
      "needs_background": "light"
     },
     "output_type": "display_data"
    }
   ],
   "source": [
    "sns.pairplot(census_df,corner=True);"
   ]
  },
  {
   "cell_type": "code",
   "execution_count": 23,
   "metadata": {
    "ExecuteTime": {
     "end_time": "2021-01-12T23:47:51.892435Z",
     "start_time": "2021-01-12T23:47:51.888349Z"
    }
   },
   "outputs": [
    {
     "data": {
      "text/plain": [
       "precinct_2020                0\n",
       "percent_unemployed_mean      0\n",
       "percent_unemployed_median    0\n",
       "percent_nohs_mean            0\n",
       "percent_nohs_median          0\n",
       "percent_poc_mean             0\n",
       "percent_poc_median           0\n",
       "dtype: int64"
      ]
     },
     "execution_count": 23,
     "metadata": {},
     "output_type": "execute_result"
    }
   ],
   "source": [
    "census_df.isna().sum()"
   ]
  },
  {
   "cell_type": "markdown",
   "metadata": {},
   "source": [
    "Observations:\n",
    "- percent no high school and percent poc are linearly related; noting this for feature selection\n",
    "- one precinct has 100% unemployment -- that can't be correct"
   ]
  },
  {
   "cell_type": "code",
   "execution_count": 24,
   "metadata": {
    "ExecuteTime": {
     "end_time": "2021-01-12T23:47:51.903110Z",
     "start_time": "2021-01-12T23:47:51.893929Z"
    }
   },
   "outputs": [
    {
     "data": {
      "text/html": [
       "<div>\n",
       "<style scoped>\n",
       "    .dataframe tbody tr th:only-of-type {\n",
       "        vertical-align: middle;\n",
       "    }\n",
       "\n",
       "    .dataframe tbody tr th {\n",
       "        vertical-align: top;\n",
       "    }\n",
       "\n",
       "    .dataframe thead th {\n",
       "        text-align: right;\n",
       "    }\n",
       "</style>\n",
       "<table border=\"1\" class=\"dataframe\">\n",
       "  <thead>\n",
       "    <tr style=\"text-align: right;\">\n",
       "      <th></th>\n",
       "      <th>precinct_2020</th>\n",
       "      <th>percent_unemployed_mean</th>\n",
       "      <th>percent_unemployed_median</th>\n",
       "      <th>percent_nohs_mean</th>\n",
       "      <th>percent_nohs_median</th>\n",
       "      <th>percent_poc_mean</th>\n",
       "      <th>percent_poc_median</th>\n",
       "    </tr>\n",
       "  </thead>\n",
       "  <tbody>\n",
       "    <tr>\n",
       "      <th>12</th>\n",
       "      <td>22.0</td>\n",
       "      <td>100.0</td>\n",
       "      <td>100.0</td>\n",
       "      <td>50.0</td>\n",
       "      <td>50.0</td>\n",
       "      <td>100.0</td>\n",
       "      <td>100.0</td>\n",
       "    </tr>\n",
       "  </tbody>\n",
       "</table>\n",
       "</div>"
      ],
      "text/plain": [
       "    precinct_2020  percent_unemployed_mean  percent_unemployed_median  percent_nohs_mean  percent_nohs_median  percent_poc_mean  percent_poc_median\n",
       "12           22.0                    100.0                      100.0               50.0                 50.0             100.0               100.0"
      ]
     },
     "execution_count": 24,
     "metadata": {},
     "output_type": "execute_result"
    }
   ],
   "source": [
    "# inspect the erroneous record\n",
    "census_df[census_df['percent_unemployed_mean']==100]"
   ]
  },
  {
   "cell_type": "code",
   "execution_count": 25,
   "metadata": {
    "ExecuteTime": {
     "end_time": "2021-01-12T23:47:51.913210Z",
     "start_time": "2021-01-12T23:47:51.904915Z"
    }
   },
   "outputs": [
    {
     "data": {
      "text/plain": [
       "precinct_2020                22.00\n",
       "percent_unemployed_mean       8.85\n",
       "percent_unemployed_median     7.91\n",
       "percent_nohs_mean            17.61\n",
       "percent_nohs_median          16.30\n",
       "percent_poc_mean             67.21\n",
       "percent_poc_median           70.32\n",
       "Name: 12, dtype: float64"
      ]
     },
     "execution_count": 25,
     "metadata": {},
     "output_type": "execute_result"
    }
   ],
   "source": [
    "# turns out the 22nd precinct is central park. I'm simply going to replace the values with the median from the entire dataset\n",
    "census_df.iloc[12,1:].replace([100,50,100],np.NaN,inplace=True)\n",
    "census_df.fillna(census_df.median(),inplace=True)\n",
    "census_df.iloc[12]"
   ]
  },
  {
   "cell_type": "markdown",
   "metadata": {},
   "source": [
    "## Export final dataset as pickle"
   ]
  },
  {
   "cell_type": "code",
   "execution_count": 26,
   "metadata": {
    "ExecuteTime": {
     "end_time": "2021-01-12T23:47:51.921353Z",
     "start_time": "2021-01-12T23:47:51.915239Z"
    }
   },
   "outputs": [],
   "source": [
    "with open('../data/final_census_data.pickle', 'wb') as to_write:\n",
    "    pickle.dump(census_df, to_write)"
   ]
  }
 ],
 "metadata": {
  "kernelspec": {
   "display_name": "Python 3",
   "language": "python",
   "name": "python3"
  },
  "language_info": {
   "codemirror_mode": {
    "name": "ipython",
    "version": 3
   },
   "file_extension": ".py",
   "mimetype": "text/x-python",
   "name": "python",
   "nbconvert_exporter": "python",
   "pygments_lexer": "ipython3",
   "version": "3.8.3"
  },
  "toc": {
   "base_numbering": 1,
   "nav_menu": {},
   "number_sections": true,
   "sideBar": true,
   "skip_h1_title": false,
   "title_cell": "Table of Contents",
   "title_sidebar": "Contents",
   "toc_cell": false,
   "toc_position": {
    "height": "calc(100% - 180px)",
    "left": "10px",
    "top": "150px",
    "width": "165px"
   },
   "toc_section_display": true,
   "toc_window_display": true
  }
 },
 "nbformat": 4,
 "nbformat_minor": 4
}
