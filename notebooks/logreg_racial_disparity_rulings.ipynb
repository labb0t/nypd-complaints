{
 "cells": [
  {
   "cell_type": "markdown",
   "metadata": {},
   "source": [
    "This notebook uses statsmodel to run a logistic regression on both of the events explored in this project (1: CCRB rules that the conduct occurred, 2: CCRB rules that the conduct violated rules). \n",
    "\n",
    "The goal of doing this is to explore these events with a model and package that allows for easier inferential analysis. Specifically, I was curious whether the disparities in rulings across complainant race/ethnicity identified through EDA hold when controlling for other variables. \n",
    "\n",
    "Conclusion: the disparities did not hold; the complainant ethnicity coefficients were not statistically significant in the logistic regression. This was overall a positive finding; it suggests that there is not racial bias in CCRB rulings."
   ]
  },
  {
   "cell_type": "markdown",
   "metadata": {},
   "source": [
    "# Import packages and data"
   ]
  },
  {
   "cell_type": "code",
   "execution_count": 18,
   "metadata": {
    "ExecuteTime": {
     "end_time": "2021-01-13T04:44:47.386090Z",
     "start_time": "2021-01-13T04:44:47.382648Z"
    }
   },
   "outputs": [],
   "source": [
    "import pickle\n",
    "import numpy as np\n",
    "import pandas as pd \n",
    "\n",
    "import statsmodels.api as sm "
   ]
  },
  {
   "cell_type": "code",
   "execution_count": 19,
   "metadata": {
    "ExecuteTime": {
     "end_time": "2021-01-13T04:44:47.863204Z",
     "start_time": "2021-01-13T04:44:47.744342Z"
    }
   },
   "outputs": [
    {
     "data": {
      "text/html": [
       "<div>\n",
       "<style scoped>\n",
       "    .dataframe tbody tr th:only-of-type {\n",
       "        vertical-align: middle;\n",
       "    }\n",
       "\n",
       "    .dataframe tbody tr th {\n",
       "        vertical-align: top;\n",
       "    }\n",
       "\n",
       "    .dataframe thead th {\n",
       "        text-align: right;\n",
       "    }\n",
       "</style>\n",
       "<table border=\"1\" class=\"dataframe\">\n",
       "  <thead>\n",
       "    <tr style=\"text-align: right;\">\n",
       "      <th></th>\n",
       "      <th>unique_mos_id</th>\n",
       "      <th>first_name</th>\n",
       "      <th>last_name</th>\n",
       "      <th>command_now</th>\n",
       "      <th>shield_no</th>\n",
       "      <th>complaint_id</th>\n",
       "      <th>month_received</th>\n",
       "      <th>year_received</th>\n",
       "      <th>month_closed</th>\n",
       "      <th>year_closed</th>\n",
       "      <th>...</th>\n",
       "      <th>contact_reason_orig</th>\n",
       "      <th>outcome_description_orig</th>\n",
       "      <th>precinct_alpha</th>\n",
       "      <th>precinct_2020</th>\n",
       "      <th>percent_unemployed_mean</th>\n",
       "      <th>percent_unemployed_median</th>\n",
       "      <th>percent_nohs_mean</th>\n",
       "      <th>percent_nohs_median</th>\n",
       "      <th>percent_poc_mean</th>\n",
       "      <th>percent_poc_median</th>\n",
       "    </tr>\n",
       "  </thead>\n",
       "  <tbody>\n",
       "    <tr>\n",
       "      <th>0</th>\n",
       "      <td>26748</td>\n",
       "      <td>Kenneth</td>\n",
       "      <td>Cullen</td>\n",
       "      <td>PBBX</td>\n",
       "      <td>0</td>\n",
       "      <td>3158</td>\n",
       "      <td>3</td>\n",
       "      <td>1998</td>\n",
       "      <td>8</td>\n",
       "      <td>2000</td>\n",
       "      <td>...</td>\n",
       "      <td>PD suspected C/V of violation/crime - bldg</td>\n",
       "      <td>Arrest - assault (against a PO)</td>\n",
       "      <td>P_79</td>\n",
       "      <td>79.0</td>\n",
       "      <td>12.022911</td>\n",
       "      <td>11.100386</td>\n",
       "      <td>19.937815</td>\n",
       "      <td>19.248120</td>\n",
       "      <td>73.174068</td>\n",
       "      <td>80.632008</td>\n",
       "    </tr>\n",
       "    <tr>\n",
       "      <th>1</th>\n",
       "      <td>17067</td>\n",
       "      <td>Michael</td>\n",
       "      <td>Vento</td>\n",
       "      <td>C R C</td>\n",
       "      <td>5566</td>\n",
       "      <td>3432</td>\n",
       "      <td>10</td>\n",
       "      <td>1998</td>\n",
       "      <td>5</td>\n",
       "      <td>2000</td>\n",
       "      <td>...</td>\n",
       "      <td>C/V intervened on behalf of/observed encounter...</td>\n",
       "      <td>Arrest - OGA</td>\n",
       "      <td>P_40</td>\n",
       "      <td>40.0</td>\n",
       "      <td>16.684955</td>\n",
       "      <td>13.935231</td>\n",
       "      <td>38.574401</td>\n",
       "      <td>37.617555</td>\n",
       "      <td>97.052903</td>\n",
       "      <td>99.580420</td>\n",
       "    </tr>\n",
       "    <tr>\n",
       "      <th>2</th>\n",
       "      <td>17067</td>\n",
       "      <td>Michael</td>\n",
       "      <td>Vento</td>\n",
       "      <td>C R C</td>\n",
       "      <td>5566</td>\n",
       "      <td>3432</td>\n",
       "      <td>10</td>\n",
       "      <td>1998</td>\n",
       "      <td>5</td>\n",
       "      <td>2000</td>\n",
       "      <td>...</td>\n",
       "      <td>C/V intervened on behalf of/observed encounter...</td>\n",
       "      <td>Arrest - OGA</td>\n",
       "      <td>P_40</td>\n",
       "      <td>40.0</td>\n",
       "      <td>16.684955</td>\n",
       "      <td>13.935231</td>\n",
       "      <td>38.574401</td>\n",
       "      <td>37.617555</td>\n",
       "      <td>97.052903</td>\n",
       "      <td>99.580420</td>\n",
       "    </tr>\n",
       "    <tr>\n",
       "      <th>3</th>\n",
       "      <td>16150</td>\n",
       "      <td>Michael</td>\n",
       "      <td>Cronin</td>\n",
       "      <td>BARRIER</td>\n",
       "      <td>348</td>\n",
       "      <td>3479</td>\n",
       "      <td>11</td>\n",
       "      <td>1998</td>\n",
       "      <td>6</td>\n",
       "      <td>2000</td>\n",
       "      <td>...</td>\n",
       "      <td>NaN</td>\n",
       "      <td>No arrest made or summons issued</td>\n",
       "      <td>P_46</td>\n",
       "      <td>46.0</td>\n",
       "      <td>14.723453</td>\n",
       "      <td>13.793103</td>\n",
       "      <td>34.149993</td>\n",
       "      <td>34.388366</td>\n",
       "      <td>98.124749</td>\n",
       "      <td>99.240122</td>\n",
       "    </tr>\n",
       "    <tr>\n",
       "      <th>4</th>\n",
       "      <td>16150</td>\n",
       "      <td>Michael</td>\n",
       "      <td>Cronin</td>\n",
       "      <td>BARRIER</td>\n",
       "      <td>348</td>\n",
       "      <td>3479</td>\n",
       "      <td>11</td>\n",
       "      <td>1998</td>\n",
       "      <td>6</td>\n",
       "      <td>2000</td>\n",
       "      <td>...</td>\n",
       "      <td>NaN</td>\n",
       "      <td>No arrest made or summons issued</td>\n",
       "      <td>P_46</td>\n",
       "      <td>46.0</td>\n",
       "      <td>14.723453</td>\n",
       "      <td>13.793103</td>\n",
       "      <td>34.149993</td>\n",
       "      <td>34.388366</td>\n",
       "      <td>98.124749</td>\n",
       "      <td>99.240122</td>\n",
       "    </tr>\n",
       "  </tbody>\n",
       "</table>\n",
       "<p>5 rows × 55 columns</p>\n",
       "</div>"
      ],
      "text/plain": [
       "   unique_mos_id first_name last_name command_now  shield_no  complaint_id  \\\n",
       "0          26748    Kenneth    Cullen        PBBX          0          3158   \n",
       "1          17067    Michael     Vento       C R C       5566          3432   \n",
       "2          17067    Michael     Vento       C R C       5566          3432   \n",
       "3          16150    Michael    Cronin     BARRIER        348          3479   \n",
       "4          16150    Michael    Cronin     BARRIER        348          3479   \n",
       "\n",
       "   month_received  year_received  month_closed  year_closed  ...  \\\n",
       "0               3           1998             8         2000  ...   \n",
       "1              10           1998             5         2000  ...   \n",
       "2              10           1998             5         2000  ...   \n",
       "3              11           1998             6         2000  ...   \n",
       "4              11           1998             6         2000  ...   \n",
       "\n",
       "                                 contact_reason_orig  \\\n",
       "0         PD suspected C/V of violation/crime - bldg   \n",
       "1  C/V intervened on behalf of/observed encounter...   \n",
       "2  C/V intervened on behalf of/observed encounter...   \n",
       "3                                                NaN   \n",
       "4                                                NaN   \n",
       "\n",
       "           outcome_description_orig precinct_alpha precinct_2020  \\\n",
       "0   Arrest - assault (against a PO)           P_79          79.0   \n",
       "1                      Arrest - OGA           P_40          40.0   \n",
       "2                      Arrest - OGA           P_40          40.0   \n",
       "3  No arrest made or summons issued           P_46          46.0   \n",
       "4  No arrest made or summons issued           P_46          46.0   \n",
       "\n",
       "  percent_unemployed_mean percent_unemployed_median percent_nohs_mean  \\\n",
       "0               12.022911                 11.100386         19.937815   \n",
       "1               16.684955                 13.935231         38.574401   \n",
       "2               16.684955                 13.935231         38.574401   \n",
       "3               14.723453                 13.793103         34.149993   \n",
       "4               14.723453                 13.793103         34.149993   \n",
       "\n",
       "   percent_nohs_median percent_poc_mean percent_poc_median  \n",
       "0            19.248120        73.174068          80.632008  \n",
       "1            37.617555        97.052903          99.580420  \n",
       "2            37.617555        97.052903          99.580420  \n",
       "3            34.388366        98.124749          99.240122  \n",
       "4            34.388366        98.124749          99.240122  \n",
       "\n",
       "[5 rows x 55 columns]"
      ]
     },
     "execution_count": 19,
     "metadata": {},
     "output_type": "execute_result"
    }
   ],
   "source": [
    "df_raw = pd.read_pickle('../data/processed_data.pickle')\n",
    "df_raw.head()"
   ]
  },
  {
   "cell_type": "code",
   "execution_count": 20,
   "metadata": {
    "ExecuteTime": {
     "end_time": "2021-01-13T04:44:48.394695Z",
     "start_time": "2021-01-13T04:44:48.390223Z"
    }
   },
   "outputs": [],
   "source": [
    "# define numeric and categorical features, targets\n",
    "numeric_features = ['mos_age_incident', 'complainant_age_incident', 'complaint_age', 'officer_cumcount',\n",
    "                    'command_rank_num', 'percent_unemployed_mean', 'percent_nohs_mean']\n",
    "\n",
    "categorical_features = ['mos_ethnicity', 'mos_gender', 'complainant_ethnicity', 'complainant_gender',\n",
    "                        'fado_type', 'contact_reason', 'outcome_description']\n",
    "\n",
    "targets = ['ruling_conduct_occurred','ruling_conduct_violated_rules']"
   ]
  },
  {
   "cell_type": "code",
   "execution_count": 21,
   "metadata": {
    "ExecuteTime": {
     "end_time": "2021-01-13T04:44:48.919324Z",
     "start_time": "2021-01-13T04:44:48.886482Z"
    }
   },
   "outputs": [
    {
     "data": {
      "text/plain": [
       "(28318, 16)"
      ]
     },
     "execution_count": 21,
     "metadata": {},
     "output_type": "execute_result"
    }
   ],
   "source": [
    "# only keep variables that will be included in model\n",
    "df = df_raw[numeric_features+categorical_features+targets]\n",
    "df.shape"
   ]
  },
  {
   "cell_type": "code",
   "execution_count": 22,
   "metadata": {
    "ExecuteTime": {
     "end_time": "2021-01-13T04:44:49.457731Z",
     "start_time": "2021-01-13T04:44:49.441469Z"
    }
   },
   "outputs": [
    {
     "data": {
      "text/plain": [
       "mos_age_incident                   0\n",
       "complainant_age_incident           0\n",
       "complaint_age                      0\n",
       "officer_cumcount                   0\n",
       "command_rank_num                   0\n",
       "percent_unemployed_mean           24\n",
       "percent_nohs_mean                 24\n",
       "mos_ethnicity                      0\n",
       "mos_gender                         0\n",
       "complainant_ethnicity              0\n",
       "complainant_gender                 0\n",
       "fado_type                          0\n",
       "contact_reason                   128\n",
       "outcome_description                0\n",
       "ruling_conduct_occurred            0\n",
       "ruling_conduct_violated_rules      0\n",
       "dtype: int64"
      ]
     },
     "execution_count": 22,
     "metadata": {},
     "output_type": "execute_result"
    }
   ],
   "source": [
    "df.isnull().sum()"
   ]
  },
  {
   "cell_type": "code",
   "execution_count": 23,
   "metadata": {
    "ExecuteTime": {
     "end_time": "2021-01-13T04:44:51.529091Z",
     "start_time": "2021-01-13T04:44:51.508144Z"
    }
   },
   "outputs": [
    {
     "data": {
      "text/plain": [
       "(28168, 16)"
      ]
     },
     "execution_count": 23,
     "metadata": {},
     "output_type": "execute_result"
    }
   ],
   "source": [
    "# drop missing values\n",
    "df = df.dropna()\n",
    "df.shape"
   ]
  },
  {
   "cell_type": "code",
   "execution_count": 24,
   "metadata": {
    "ExecuteTime": {
     "end_time": "2021-01-13T04:44:52.224891Z",
     "start_time": "2021-01-13T04:44:52.191476Z"
    }
   },
   "outputs": [],
   "source": [
    "# create dummy variables\n",
    "df = pd.get_dummies(df, columns=categorical_features,drop_first=True)"
   ]
  },
  {
   "cell_type": "markdown",
   "metadata": {},
   "source": [
    "# Model 1: conduct occurred\n",
    "While there were not meaningful differences across race/ethnicity in this aspect of the CCRB rulings, I'll run a logistic regression on this dataset just to be thorough"
   ]
  },
  {
   "cell_type": "code",
   "execution_count": 9,
   "metadata": {
    "ExecuteTime": {
     "end_time": "2021-01-13T04:41:42.074146Z",
     "start_time": "2021-01-13T04:41:42.064485Z"
    }
   },
   "outputs": [],
   "source": [
    "# create X and y\n",
    "X1 = df.drop(targets, axis=1)\n",
    "y1 = df['ruling_conduct_occurred']"
   ]
  },
  {
   "cell_type": "code",
   "execution_count": 10,
   "metadata": {
    "ExecuteTime": {
     "end_time": "2021-01-13T04:41:42.658215Z",
     "start_time": "2021-01-13T04:41:42.546145Z"
    }
   },
   "outputs": [
    {
     "name": "stdout",
     "output_type": "stream",
     "text": [
      "Optimization terminated successfully.\n",
      "         Current function value: 0.647385\n",
      "         Iterations 6\n"
     ]
    }
   ],
   "source": [
    "# fit model\n",
    "log_reg1 = sm.Logit(y1, X1).fit() "
   ]
  },
  {
   "cell_type": "code",
   "execution_count": 33,
   "metadata": {
    "ExecuteTime": {
     "end_time": "2020-11-22T21:50:04.425461Z",
     "start_time": "2020-11-22T21:50:04.367140Z"
    }
   },
   "outputs": [
    {
     "name": "stdout",
     "output_type": "stream",
     "text": [
      "                              Logit Regression Results                             \n",
      "===================================================================================\n",
      "Dep. Variable:     ruling_conduct_occurred   No. Observations:                28168\n",
      "Model:                               Logit   Df Residuals:                    28131\n",
      "Method:                                MLE   Df Model:                           36\n",
      "Date:                     Sun, 22 Nov 2020   Pseudo R-squ.:                 0.06490\n",
      "Time:                             13:50:04   Log-Likelihood:                -18236.\n",
      "converged:                            True   LL-Null:                       -19502.\n",
      "Covariance Type:                 nonrobust   LLR p-value:                     0.000\n",
      "===============================================================================================================================\n",
      "                                                                  coef    std err          z      P>|z|      [0.025      0.975]\n",
      "-------------------------------------------------------------------------------------------------------------------------------\n",
      "mos_age_incident                                                0.0096      0.002      3.856      0.000       0.005       0.014\n",
      "complainant_age_incident                                        0.0007      0.001      0.802      0.423      -0.001       0.003\n",
      "complaint_age                                                   0.0119      0.003      4.367      0.000       0.007       0.017\n",
      "officer_cumcount                                               -0.0802      0.005    -17.295      0.000      -0.089      -0.071\n",
      "command_rank_num                                                0.0352      0.016      2.267      0.023       0.005       0.066\n",
      "percent_unemployed_mean                                         0.0003      0.004      0.078      0.938      -0.008       0.008\n",
      "percent_nohs_mean                                              -0.0054      0.002     -2.682      0.007      -0.009      -0.001\n",
      "mos_ethnicity_Asian                                             0.9046      0.262      3.453      0.001       0.391       1.418\n",
      "mos_ethnicity_Black                                             0.6780      0.257      2.639      0.008       0.175       1.181\n",
      "mos_ethnicity_Hispanic                                          0.6999      0.255      2.740      0.006       0.199       1.201\n",
      "mos_ethnicity_White                                             0.8010      0.254      3.149      0.002       0.302       1.299\n",
      "mos_gender_M                                                   -0.2172      0.057     -3.824      0.000      -0.329      -0.106\n",
      "complainant_ethnicity_Asian                                    -0.1666      0.252     -0.661      0.508      -0.660       0.327\n",
      "complainant_ethnicity_Black                                    -0.3295      0.235     -1.404      0.160      -0.789       0.130\n",
      "complainant_ethnicity_Hispanic                                 -0.3605      0.236     -1.529      0.126      -0.823       0.102\n",
      "complainant_ethnicity_Other                                    -0.3102      0.239     -1.299      0.194      -0.778       0.158\n",
      "complainant_ethnicity_White                                    -0.3602      0.237     -1.517      0.129      -0.826       0.105\n",
      "complainant_gender_Male                                         0.0988      0.035      2.829      0.005       0.030       0.167\n",
      "complainant_gender_Other                                        0.6954      0.290      2.396      0.017       0.127       1.264\n",
      "fado_type_Discourtesy                                          -1.3541      0.040    -33.982      0.000      -1.432      -1.276\n",
      "fado_type_Force                                                 0.1186      0.032      3.676      0.000       0.055       0.182\n",
      "fado_type_Offensive Language                                   -1.9700      0.111    -17.693      0.000      -2.188      -1.752\n",
      "contact_reason_Execution of search warrant                     -0.9968      0.141     -7.076      0.000      -1.273      -0.721\n",
      "contact_reason_Moving violation                                -0.2454      0.107     -2.296      0.022      -0.455      -0.036\n",
      "contact_reason_Other                                           -0.0921      0.099     -0.935      0.350      -0.285       0.101\n",
      "contact_reason_Other violation of VTL                          -0.1100      0.115     -0.957      0.338      -0.335       0.115\n",
      "contact_reason_PD suspected C/V of violation/crime - auto      -0.2588      0.103     -2.511      0.012      -0.461      -0.057\n",
      "contact_reason_PD suspected C/V of violation/crime - bldg      -0.1029      0.105     -0.978      0.328      -0.309       0.103\n",
      "contact_reason_PD suspected C/V of violation/crime - street    -0.3341      0.097     -3.427      0.001      -0.525      -0.143\n",
      "contact_reason_Parking violation                               -0.0428      0.129     -0.333      0.739      -0.295       0.210\n",
      "contact_reason_Report of other crime                            0.1272      0.124      1.025      0.305      -0.116       0.371\n",
      "contact_reason_Report-dispute                                  -0.0464      0.118     -0.394      0.694      -0.278       0.185\n",
      "contact_reason_Report-domestic dispute                          0.0110      0.138      0.080      0.936      -0.259       0.281\n",
      "contact_reason_Report-gun possession/shots fired               -0.1054      0.143     -0.734      0.463      -0.387       0.176\n",
      "outcome_description_None                                        0.0789      0.030      2.626      0.009       0.020       0.138\n",
      "outcome_description_Other                                       0.1115      0.216      0.516      0.606      -0.312       0.535\n",
      "outcome_description_Summons                                     0.0729      0.037      1.988      0.047       0.001       0.145\n",
      "===============================================================================================================================\n"
     ]
    }
   ],
   "source": [
    "# print summary\n",
    "print(log_reg1.summary()) "
   ]
  },
  {
   "cell_type": "markdown",
   "metadata": {},
   "source": [
    "# Model 2: conduct violated rules\n",
    "This is the ruling where EDA did identify some differences across complainant race/ethnicity (the CCRB ruling was in favor of the police in 54% of Black-complainant cases and 52% of Hispanic-complainant cases, vs 49% and 47% for Asian- and White- complainant cases, respectively)."
   ]
  },
  {
   "cell_type": "code",
   "execution_count": 27,
   "metadata": {
    "ExecuteTime": {
     "end_time": "2021-01-13T05:45:31.136293Z",
     "start_time": "2021-01-13T05:45:31.088200Z"
    }
   },
   "outputs": [],
   "source": [
    "# filter out any \"unsubstantiated\" complaints and save as new dataframe\n",
    "indexNames = df[df['ruling_conduct_occurred'] == 0].index\n",
    "df2 = df.drop(indexNames)\n",
    "df2_raw = df_raw.drop(indexNames)\n",
    "\n",
    "# define X and y for 'violated rules' model\n",
    "X2 = df2.drop(targets, axis=1)\n",
    "y2 = df2['ruling_conduct_violated_rules']"
   ]
  },
  {
   "cell_type": "code",
   "execution_count": 12,
   "metadata": {
    "ExecuteTime": {
     "end_time": "2021-01-13T04:42:07.376823Z",
     "start_time": "2021-01-13T04:42:07.373819Z"
    }
   },
   "outputs": [
    {
     "data": {
      "text/plain": [
       "(14653, 37)"
      ]
     },
     "execution_count": 12,
     "metadata": {},
     "output_type": "execute_result"
    }
   ],
   "source": [
    "X2.shape"
   ]
  },
  {
   "cell_type": "code",
   "execution_count": 13,
   "metadata": {
    "ExecuteTime": {
     "end_time": "2021-01-13T04:42:07.898454Z",
     "start_time": "2021-01-13T04:42:07.849228Z"
    }
   },
   "outputs": [
    {
     "name": "stdout",
     "output_type": "stream",
     "text": [
      "Optimization terminated successfully.\n",
      "         Current function value: 0.575902\n",
      "         Iterations 9\n"
     ]
    }
   ],
   "source": [
    "# fit model\n",
    "log_reg2 = sm.Logit(y2, X2).fit() "
   ]
  },
  {
   "cell_type": "code",
   "execution_count": 14,
   "metadata": {
    "ExecuteTime": {
     "end_time": "2021-01-13T04:42:08.468429Z",
     "start_time": "2021-01-13T04:42:08.426293Z"
    },
    "scrolled": false
   },
   "outputs": [
    {
     "name": "stdout",
     "output_type": "stream",
     "text": [
      "                                 Logit Regression Results                                \n",
      "=========================================================================================\n",
      "Dep. Variable:     ruling_conduct_violated_rules   No. Observations:                14653\n",
      "Model:                                     Logit   Df Residuals:                    14616\n",
      "Method:                                      MLE   Df Model:                           36\n",
      "Date:                           Tue, 12 Jan 2021   Pseudo R-squ.:                  0.1675\n",
      "Time:                                   20:42:08   Log-Likelihood:                -8438.7\n",
      "converged:                                  True   LL-Null:                       -10136.\n",
      "Covariance Type:                       nonrobust   LLR p-value:                     0.000\n",
      "===============================================================================================================================\n",
      "                                                                  coef    std err          z      P>|z|      [0.025      0.975]\n",
      "-------------------------------------------------------------------------------------------------------------------------------\n",
      "mos_age_incident                                                0.0091      0.004      2.444      0.015       0.002       0.016\n",
      "complainant_age_incident                                       -0.0078      0.002     -4.938      0.000      -0.011      -0.005\n",
      "complaint_age                                                  -0.0591      0.004    -15.222      0.000      -0.067      -0.051\n",
      "officer_cumcount                                               -0.0633      0.007     -8.657      0.000      -0.078      -0.049\n",
      "command_rank_num                                               -0.0496      0.023     -2.162      0.031      -0.094      -0.005\n",
      "percent_unemployed_mean                                        -0.0060      0.007     -0.852      0.394      -0.020       0.008\n",
      "percent_nohs_mean                                               0.0102      0.003      3.217      0.001       0.004       0.016\n",
      "mos_ethnicity_Asian                                             0.7618      0.366      2.081      0.037       0.044       1.479\n",
      "mos_ethnicity_Black                                             0.5295      0.361      1.467      0.142      -0.178       1.237\n",
      "mos_ethnicity_Hispanic                                          0.4586      0.358      1.280      0.201      -0.244       1.161\n",
      "mos_ethnicity_White                                             0.4831      0.356      1.356      0.175      -0.215       1.181\n",
      "mos_gender_M                                                   -0.5454      0.081     -6.742      0.000      -0.704      -0.387\n",
      "complainant_ethnicity_Asian                                    -0.0301      0.338     -0.089      0.929      -0.692       0.632\n",
      "complainant_ethnicity_Black                                     0.1261      0.313      0.402      0.687      -0.488       0.740\n",
      "complainant_ethnicity_Hispanic                                  0.1941      0.315      0.615      0.538      -0.424       0.812\n",
      "complainant_ethnicity_Other                                     0.1853      0.321      0.578      0.563      -0.443       0.814\n",
      "complainant_ethnicity_White                                     0.2611      0.318      0.821      0.412      -0.362       0.884\n",
      "complainant_gender_Male                                         0.4063      0.054      7.555      0.000       0.301       0.512\n",
      "complainant_gender_Other                                       -0.1205      0.368     -0.328      0.743      -0.841       0.600\n",
      "fado_type_Discourtesy                                           1.3857      0.084     16.505      0.000       1.221       1.550\n",
      "fado_type_Force                                                -1.3709      0.050    -27.441      0.000      -1.469      -1.273\n",
      "fado_type_Offensive Language                                    4.4243      1.007      4.394      0.000       2.451       6.397\n",
      "contact_reason_Execution of search warrant                     -0.1957      0.236     -0.828      0.408      -0.659       0.268\n",
      "contact_reason_Moving violation                                -0.4955      0.161     -3.078      0.002      -0.811      -0.180\n",
      "contact_reason_Other                                           -0.2704      0.149     -1.817      0.069      -0.562       0.021\n",
      "contact_reason_Other violation of VTL                          -0.7648      0.171     -4.480      0.000      -1.099      -0.430\n",
      "contact_reason_PD suspected C/V of violation/crime - auto      -0.4206      0.155     -2.711      0.007      -0.725      -0.117\n",
      "contact_reason_PD suspected C/V of violation/crime - bldg      -0.1358      0.158     -0.861      0.389      -0.445       0.173\n",
      "contact_reason_PD suspected C/V of violation/crime - street    -0.1770      0.148     -1.200      0.230      -0.466       0.112\n",
      "contact_reason_Parking violation                               -0.3225      0.190     -1.700      0.089      -0.694       0.049\n",
      "contact_reason_Report of other crime                           -0.4329      0.182     -2.376      0.018      -0.790      -0.076\n",
      "contact_reason_Report-dispute                                  -0.8097      0.181     -4.481      0.000      -1.164      -0.456\n",
      "contact_reason_Report-domestic dispute                         -0.6357      0.211     -3.010      0.003      -1.050      -0.222\n",
      "contact_reason_Report-gun possession/shots fired               -1.1666      0.219     -5.325      0.000      -1.596      -0.737\n",
      "outcome_description_None                                        0.9673      0.044     21.776      0.000       0.880       1.054\n",
      "outcome_description_Other                                       0.3932      0.311      1.266      0.205      -0.215       1.002\n",
      "outcome_description_Summons                                     0.5755      0.054     10.730      0.000       0.470       0.681\n",
      "===============================================================================================================================\n"
     ]
    }
   ],
   "source": [
    "# print summary\n",
    "print(log_reg2.summary()) "
   ]
  },
  {
   "cell_type": "markdown",
   "metadata": {},
   "source": [
    "I'm surprised, but it looks like none of the complainant ethnicity variables are statistically significant, suggesting they aren't associated with the ruling outcome when controlling for all other features in the model. \n",
    "\n",
    "Below I'll just confirm that the patterns I saw in my EDA are present in this dataset, just to be 100% I'm looking at the same data in both places/didn't make a mistake:"
   ]
  },
  {
   "cell_type": "code",
   "execution_count": 15,
   "metadata": {
    "ExecuteTime": {
     "end_time": "2021-01-13T04:42:10.734539Z",
     "start_time": "2021-01-13T04:42:10.714703Z"
    }
   },
   "outputs": [
    {
     "data": {
      "text/html": [
       "<div>\n",
       "<style scoped>\n",
       "    .dataframe tbody tr th:only-of-type {\n",
       "        vertical-align: middle;\n",
       "    }\n",
       "\n",
       "    .dataframe tbody tr th {\n",
       "        vertical-align: top;\n",
       "    }\n",
       "\n",
       "    .dataframe thead th {\n",
       "        text-align: right;\n",
       "    }\n",
       "</style>\n",
       "<table border=\"1\" class=\"dataframe\">\n",
       "  <thead>\n",
       "    <tr style=\"text-align: right;\">\n",
       "      <th>ruling_conduct_violated_rules</th>\n",
       "      <th>0</th>\n",
       "      <th>1</th>\n",
       "    </tr>\n",
       "    <tr>\n",
       "      <th>complainant_ethnicity_Black</th>\n",
       "      <th></th>\n",
       "      <th></th>\n",
       "    </tr>\n",
       "  </thead>\n",
       "  <tbody>\n",
       "    <tr>\n",
       "      <th>0</th>\n",
       "      <td>0.499831</td>\n",
       "      <td>0.500169</td>\n",
       "    </tr>\n",
       "    <tr>\n",
       "      <th>1</th>\n",
       "      <td>0.544113</td>\n",
       "      <td>0.455887</td>\n",
       "    </tr>\n",
       "  </tbody>\n",
       "</table>\n",
       "</div>"
      ],
      "text/plain": [
       "ruling_conduct_violated_rules         0         1\n",
       "complainant_ethnicity_Black                      \n",
       "0                              0.499831  0.500169\n",
       "1                              0.544113  0.455887"
      ]
     },
     "execution_count": 15,
     "metadata": {},
     "output_type": "execute_result"
    }
   ],
   "source": [
    "# confirm that the disparity in the simple cross tabulation still holds true!\n",
    "pd.crosstab(index=df2['complainant_ethnicity_Black'],columns=df2['ruling_conduct_violated_rules'],normalize='index')"
   ]
  },
  {
   "cell_type": "code",
   "execution_count": 32,
   "metadata": {
    "ExecuteTime": {
     "end_time": "2021-01-13T05:47:31.867236Z",
     "start_time": "2021-01-13T05:47:31.661583Z"
    }
   },
   "outputs": [
    {
     "data": {
      "text/plain": [
       "<matplotlib.axes._subplots.AxesSubplot at 0x7fec38088580>"
      ]
     },
     "execution_count": 32,
     "metadata": {},
     "output_type": "execute_result"
    },
    {
     "data": {
      "image/png": "[encoded data removed]",
      "text/plain": [
       "<Figure size 432x288 with 1 Axes>"
      ]
     },
     "metadata": {
      "needs_background": "light"
     },
     "output_type": "display_data"
    }
   ],
   "source": [
    "# explore whether differences in complaint type are drivers of differences... doesn't seem to be a silver bullet\n",
    "pd.crosstab(index=df2_raw['complainant_ethnicity'],columns=df2_raw['fado_type'],normalize='index').plot(kind='bar');"
   ]
  }
 ],
 "metadata": {
  "kernelspec": {
   "display_name": "Python 3",
   "language": "python",
   "name": "python3"
  },
  "language_info": {
   "codemirror_mode": {
    "name": "ipython",
    "version": 3
   },
   "file_extension": ".py",
   "mimetype": "text/x-python",
   "name": "python",
   "nbconvert_exporter": "python",
   "pygments_lexer": "ipython3",
   "version": "3.8.3"
  },
  "toc": {
   "base_numbering": 1,
   "nav_menu": {},
   "number_sections": true,
   "sideBar": true,
   "skip_h1_title": false,
   "title_cell": "Table of Contents",
   "title_sidebar": "Contents",
   "toc_cell": false,
   "toc_position": {},
   "toc_section_display": true,
   "toc_window_display": false
  }
 },
 "nbformat": 4,
 "nbformat_minor": 4
}
