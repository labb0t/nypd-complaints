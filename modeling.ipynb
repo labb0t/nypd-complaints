{
 "cells": [
  {
   "cell_type": "markdown",
   "metadata": {
    "ExecuteTime": {
     "end_time": "2020-10-22T23:05:11.904558Z",
     "start_time": "2020-10-22T23:05:11.868593Z"
    }
   },
   "source": [
    "## Load packages and data"
   ]
  },
  {
   "cell_type": "code",
   "execution_count": 242,
   "metadata": {
    "ExecuteTime": {
     "end_time": "2020-10-26T17:11:10.144589Z",
     "start_time": "2020-10-26T17:11:09.951111Z"
    }
   },
   "outputs": [],
   "source": [
    "import pickle\n",
    "import numpy as np\n",
    "import pandas as pd \n",
    "import matplotlib.pyplot as plt\n",
    "import seaborn as sns\n",
    "import warnings\n",
    "from sklearn.model_selection import train_test_split\n",
    "from sklearn.preprocessing import StandardScaler\n",
    "from sklearn.metrics import confusion_matrix, classification_report, roc_curve, roc_auc_score\n",
    "from sklearn.pipeline import Pipeline, FeatureUnion\n",
    "from sklearn.compose import ColumnTransformer\n",
    "from sklearn.impute import SimpleImputer\n",
    "from sklearn.preprocessing import StandardScaler, OneHotEncoder\n",
    "from sklearn.neighbors import KNeighborsClassifier\n",
    "from sklearn.svm import SVC\n",
    "from sklearn.ensemble import RandomForestClassifier, GradientBoostingClassifier\n",
    "from sklearn.linear_model import LogisticRegression\n",
    "from sklearn.model_selection import cross_val_score, cross_val_predict, StratifiedKFold\n",
    "from sklearn.naive_bayes import GaussianNB\n",
    "from modeling_utils import get_classifier_scores, get_classifier_performance, get_feature_names"
   ]
  },
  {
   "cell_type": "code",
   "execution_count": 243,
   "metadata": {
    "ExecuteTime": {
     "end_time": "2020-10-26T17:11:10.234031Z",
     "start_time": "2020-10-26T17:11:10.148104Z"
    }
   },
   "outputs": [
    {
     "name": "stdout",
     "output_type": "stream",
     "text": [
      "The autoreload extension is already loaded. To reload it, use:\n",
      "  %reload_ext autoreload\n"
     ]
    }
   ],
   "source": [
    "%load_ext autoreload\n",
    "%autoreload 2\n",
    "warnings.filterwarnings('ignore')"
   ]
  },
  {
   "cell_type": "code",
   "execution_count": 244,
   "metadata": {
    "ExecuteTime": {
     "end_time": "2020-10-26T17:11:10.417944Z",
     "start_time": "2020-10-26T17:11:10.236495Z"
    }
   },
   "outputs": [],
   "source": [
    "df = pickle.load(open(\"processed_data.pickle\", \"rb\"))"
   ]
  },
  {
   "cell_type": "markdown",
   "metadata": {},
   "source": [
    "## Model 1: \"Conduct Occurred\" ruling\n",
    "This model will apply to the entire dataset, and try to predict whether the CCRB determines that a complaint did occur (i.e. was ruled \"substantiated\" or \"exonerated\")."
   ]
  },
  {
   "cell_type": "markdown",
   "metadata": {},
   "source": [
    "### Define features + target,  preprocessing steps and to train/test split"
   ]
  },
  {
   "cell_type": "code",
   "execution_count": 245,
   "metadata": {
    "ExecuteTime": {
     "end_time": "2020-10-26T17:11:10.509194Z",
     "start_time": "2020-10-26T17:11:10.420473Z"
    }
   },
   "outputs": [],
   "source": [
    "# define features and target\n",
    "# consider adding precinct as categorical variable\n",
    "features_list = ['mos_age_incident', 'complainant_age_incident', 'complaint_age', 'complaint_is_grouped',\n",
    "                 'officer_cumcount', 'command_rank_num', 'percent_unemployed_mean', 'percent_nohs_mean', 'mos_ethnicity',\n",
    "                 'mos_gender', 'complainant_ethnicity', 'complainant_gender', 'fado_type', 'contact_reason', 'outcome_description']\n",
    "\n",
    "X1 = df[features_list]\n",
    "y1 = df['ruling_conduct_occurred']"
   ]
  },
  {
   "cell_type": "code",
   "execution_count": 246,
   "metadata": {
    "ExecuteTime": {
     "end_time": "2020-10-26T17:11:10.546191Z",
     "start_time": "2020-10-26T17:11:10.511558Z"
    }
   },
   "outputs": [],
   "source": [
    "# define numeric and categorical features\n",
    "numeric_features = ['mos_age_incident', 'complainant_age_incident', 'complaint_age', 'officer_cumcount',\n",
    "                    'command_rank_num', 'percent_unemployed_mean', 'percent_nohs_mean']\n",
    "categorical_features = ['mos_ethnicity', 'mos_gender', 'complainant_ethnicity', 'complainant_gender',\n",
    "                        'fado_type', 'contact_reason', 'outcome_description']"
   ]
  },
  {
   "cell_type": "code",
   "execution_count": 247,
   "metadata": {
    "ExecuteTime": {
     "end_time": "2020-10-26T17:11:10.587588Z",
     "start_time": "2020-10-26T17:11:10.547756Z"
    }
   },
   "outputs": [],
   "source": [
    "# create preprocessor pipeline steps to process numeric and categorical data\n",
    "numeric_transformer = Pipeline(steps=[\n",
    "    ('imputer', SimpleImputer(strategy='median')),\n",
    "    ('scaler', StandardScaler())])\n",
    "\n",
    "categorical_transformer = Pipeline(steps=[\n",
    "    ('imputer', SimpleImputer(strategy='constant', fill_value='missing')),\n",
    "    ('onehot', OneHotEncoder(handle_unknown='ignore'))])\n",
    "\n",
    "preprocessor = ColumnTransformer(\n",
    "    transformers=[\n",
    "        ('num', numeric_transformer, numeric_features),\n",
    "        ('cat', categorical_transformer, categorical_features)])"
   ]
  },
  {
   "cell_type": "code",
   "execution_count": 248,
   "metadata": {
    "ExecuteTime": {
     "end_time": "2020-10-26T17:11:10.642659Z",
     "start_time": "2020-10-26T17:11:10.588897Z"
    }
   },
   "outputs": [],
   "source": [
    "# split data into training and test set\n",
    "X1, X1_test, y1, y1_test = train_test_split(\n",
    "    X1, y1, test_size=.2, random_state=33) "
   ]
  },
  {
   "cell_type": "markdown",
   "metadata": {},
   "source": [
    "### Try a bunch of classifiers with cross-validation"
   ]
  },
  {
   "cell_type": "code",
   "execution_count": 249,
   "metadata": {
    "ExecuteTime": {
     "end_time": "2020-10-26T17:11:10.687415Z",
     "start_time": "2020-10-26T17:11:10.644475Z"
    }
   },
   "outputs": [],
   "source": [
    "clf_models_list = [\n",
    "    LogisticRegression(max_iter=500),\n",
    "    RandomForestClassifier(random_state=33),\n",
    "    KNeighborsClassifier(3),\n",
    "    SVC(random_state=33),\n",
    "    GradientBoostingClassifier(random_state=33),\n",
    "    GaussianNB()\n",
    "    ]"
   ]
  },
  {
   "cell_type": "code",
   "execution_count": 250,
   "metadata": {
    "ExecuteTime": {
     "end_time": "2020-10-26T17:14:23.190857Z",
     "start_time": "2020-10-26T17:11:10.690866Z"
    }
   },
   "outputs": [
    {
     "name": "stdout",
     "output_type": "stream",
     "text": [
      "LogisticRegression(max_iter=500)\n",
      "0.6194487813409999\n",
      "RandomForestClassifier(random_state=33)\n",
      "0.6729936863685682\n",
      "KNeighborsClassifier(n_neighbors=3)\n",
      "0.621082744673315\n",
      "SVC(random_state=33)\n",
      "0.632559171720154\n",
      "GradientBoostingClassifier(random_state=33)\n",
      "0.6369735786290469\n",
      "GaussianNB()\n",
      "0.601306467148313\n"
     ]
    }
   ],
   "source": [
    "# test the same set of classifiers using same preprocessing techniques\n",
    "get_classifier_scores(X1,y1,clf_models_list,preprocessor)"
   ]
  },
  {
   "cell_type": "markdown",
   "metadata": {},
   "source": [
    "Looks like Random Forest fits my data best of the models tried. Now I'll examine some additional metrics and then see if I can optimize the model."
   ]
  },
  {
   "cell_type": "markdown",
   "metadata": {},
   "source": [
    "### Baseline Random Forest Performance Metrics"
   ]
  },
  {
   "cell_type": "code",
   "execution_count": 251,
   "metadata": {
    "ExecuteTime": {
     "end_time": "2020-10-26T17:14:46.197865Z",
     "start_time": "2020-10-26T17:14:23.192742Z"
    }
   },
   "outputs": [
    {
     "name": "stdout",
     "output_type": "stream",
     "text": [
      "              precision    recall  f1-score   support\n",
      "\n",
      "           0       0.67      0.62      0.64     10844\n",
      "           1       0.67      0.72      0.69     11810\n",
      "\n",
      "    accuracy                           0.67     22654\n",
      "   macro avg       0.67      0.67      0.67     22654\n",
      "weighted avg       0.67      0.67      0.67     22654\n",
      "\n"
     ]
    },
    {
     "data": {
      "image/png": "[encoded data removed]",
      "text/plain": [
       "<Figure size 576x396 with 2 Axes>"
      ]
     },
     "metadata": {},
     "output_type": "display_data"
    },
    {
     "data": {
      "image/png": "[encoded data removed]",
      "text/plain": [
       "<Figure size 576x396 with 1 Axes>"
      ]
     },
     "metadata": {},
     "output_type": "display_data"
    }
   ],
   "source": [
    "# evaluate Random Forest performance with default hyperparameters\n",
    "get_classifier_performance(X=X1,y=y1,model=RandomForestClassifier(),preprocessor=preprocessor)"
   ]
  },
  {
   "cell_type": "markdown",
   "metadata": {},
   "source": [
    "### Hyperparameter Tuning"
   ]
  },
  {
   "cell_type": "code",
   "execution_count": 252,
   "metadata": {
    "ExecuteTime": {
     "end_time": "2020-10-26T17:15:15.180493Z",
     "start_time": "2020-10-26T17:15:15.144139Z"
    }
   },
   "outputs": [],
   "source": [
    "from sklearn.model_selection import GridSearchCV\n",
    "from pprint import pprint"
   ]
  },
  {
   "cell_type": "code",
   "execution_count": 253,
   "metadata": {
    "ExecuteTime": {
     "end_time": "2020-10-26T17:15:15.859225Z",
     "start_time": "2020-10-26T17:15:15.823498Z"
    }
   },
   "outputs": [
    {
     "name": "stdout",
     "output_type": "stream",
     "text": [
      "{'classifier__max_depth': [4, 5, 6, 7, 8],\n",
      " 'classifier__max_features': ['auto', 'log2'],\n",
      " 'classifier__n_estimators': [100, 200, 300, 400, 500]}\n"
     ]
    }
   ],
   "source": [
    "# Number of trees in random forest\n",
    "n_estimators = [100,200,300,400,500]\n",
    "# Number of features to consider at every split\n",
    "max_features = ['auto','log2']\n",
    "# Maximum number of levels in tree\n",
    "max_depth = [4,5,6,7,8]\n",
    "\n",
    "# Create the random grid\n",
    "param_grid = {'classifier__n_estimators': n_estimators,\n",
    "               'classifier__max_features': max_features,\n",
    "               'classifier__max_depth': max_depth}\n",
    "pprint(param_grid) "
   ]
  },
  {
   "cell_type": "code",
   "execution_count": 254,
   "metadata": {
    "ExecuteTime": {
     "end_time": "2020-10-26T17:15:19.383060Z",
     "start_time": "2020-10-26T17:15:19.345851Z"
    }
   },
   "outputs": [],
   "source": [
    "# create the baseline model to tune\n",
    "rf1 = Pipeline(steps=[('preprocessor', preprocessor),('classifier', RandomForestClassifier())])\n",
    "\n",
    "# run random search cross validation\n",
    "rf1_grid = GridSearchCV(estimator = rf1, param_grid = param_grid, verbose=1)\n"
   ]
  },
  {
   "cell_type": "code",
   "execution_count": 255,
   "metadata": {
    "ExecuteTime": {
     "end_time": "2020-10-26T17:25:06.781181Z",
     "start_time": "2020-10-26T17:15:20.959866Z"
    }
   },
   "outputs": [
    {
     "name": "stdout",
     "output_type": "stream",
     "text": [
      "Fitting 5 folds for each of 50 candidates, totalling 250 fits\n"
     ]
    },
    {
     "name": "stderr",
     "output_type": "stream",
     "text": [
      "[Parallel(n_jobs=1)]: Using backend SequentialBackend with 1 concurrent workers.\n",
      "[Parallel(n_jobs=1)]: Done 250 out of 250 | elapsed:  9.7min finished\n"
     ]
    },
    {
     "data": {
      "text/plain": [
       "GridSearchCV(estimator=Pipeline(steps=[('preprocessor',\n",
       "                                        ColumnTransformer(transformers=[('num',\n",
       "                                                                         Pipeline(steps=[('imputer',\n",
       "                                                                                          SimpleImputer(strategy='median')),\n",
       "                                                                                         ('scaler',\n",
       "                                                                                          StandardScaler())]),\n",
       "                                                                         ['mos_age_incident',\n",
       "                                                                          'complainant_age_incident',\n",
       "                                                                          'complaint_age',\n",
       "                                                                          'officer_cumcount',\n",
       "                                                                          'command_rank_num',\n",
       "                                                                          'percent_unemployed_mean',\n",
       "                                                                          'percent_nohs_mean']),\n",
       "                                                                        ('cat',\n",
       "                                                                         Pipeline(...\n",
       "                                                                                          OneHotEncoder(handle_unknown='ignore'))]),\n",
       "                                                                         ['mos_ethnicity',\n",
       "                                                                          'mos_gender',\n",
       "                                                                          'complainant_ethnicity',\n",
       "                                                                          'complainant_gender',\n",
       "                                                                          'fado_type',\n",
       "                                                                          'contact_reason',\n",
       "                                                                          'outcome_description'])])),\n",
       "                                       ('classifier',\n",
       "                                        RandomForestClassifier())]),\n",
       "             param_grid={'classifier__max_depth': [4, 5, 6, 7, 8],\n",
       "                         'classifier__max_features': ['auto', 'log2'],\n",
       "                         'classifier__n_estimators': [100, 200, 300, 400, 500]},\n",
       "             verbose=1)"
      ]
     },
     "execution_count": 255,
     "metadata": {},
     "output_type": "execute_result"
    }
   ],
   "source": [
    "# fit the grid search model\n",
    "rf1_grid.fit(X1, y1) "
   ]
  },
  {
   "cell_type": "code",
   "execution_count": 256,
   "metadata": {
    "ExecuteTime": {
     "end_time": "2020-10-26T17:30:19.759653Z",
     "start_time": "2020-10-26T17:30:19.653926Z"
    }
   },
   "outputs": [
    {
     "data": {
      "text/plain": [
       "{'classifier__max_depth': 8,\n",
       " 'classifier__max_features': 'auto',\n",
       " 'classifier__n_estimators': 300}"
      ]
     },
     "execution_count": 256,
     "metadata": {},
     "output_type": "execute_result"
    }
   ],
   "source": [
    "# get the best parameters from the grid search\n",
    "rf1_grid.best_params_"
   ]
  },
  {
   "cell_type": "code",
   "execution_count": 257,
   "metadata": {
    "ExecuteTime": {
     "end_time": "2020-10-26T17:33:03.415680Z",
     "start_time": "2020-10-26T17:32:34.889276Z"
    }
   },
   "outputs": [
    {
     "name": "stdout",
     "output_type": "stream",
     "text": [
      "              precision    recall  f1-score   support\n",
      "\n",
      "           0       0.70      0.40      0.51     10844\n",
      "           1       0.60      0.85      0.71     11810\n",
      "\n",
      "    accuracy                           0.63     22654\n",
      "   macro avg       0.65      0.62      0.61     22654\n",
      "weighted avg       0.65      0.63      0.61     22654\n",
      "\n"
     ]
    },
    {
     "data": {
      "image/png": "[encoded data removed]",
      "text/plain": [
       "<Figure size 576x396 with 2 Axes>"
      ]
     },
     "metadata": {},
     "output_type": "display_data"
    },
    {
     "data": {
      "image/png": "[encoded data removed]",
      "text/plain": [
       "<Figure size 576x396 with 1 Axes>"
      ]
     },
     "metadata": {},
     "output_type": "display_data"
    }
   ],
   "source": [
    "get_classifier_performance(X=X1,y=y1,model=RandomForestClassifier(n_estimators=300, max_depth=8,max_features='auto'),\n",
    "                           preprocessor=preprocessor)"
   ]
  },
  {
   "cell_type": "markdown",
   "metadata": {},
   "source": [
    "## Model 2: \"Violated Rules\" ruling\n",
    "This model will apply only to complaints that the CCRB determined _did_ occur, and try to predict whether the complaint is ruled \"substantiated\" (the officer's conduct violated rules) or \"exonerated\" (the officer's conduct did not violate NYPD rules).\\"
   ]
  },
  {
   "cell_type": "markdown",
   "metadata": {},
   "source": [
    "### Define features + target,  preprocessing steps and to train/test split\n",
    "Will use the same set of preprocessing steps as Model 1, since features are the same."
   ]
  },
  {
   "cell_type": "code",
   "execution_count": 15,
   "metadata": {
    "ExecuteTime": {
     "end_time": "2020-10-22T23:10:07.467623Z",
     "start_time": "2020-10-22T23:10:07.405695Z"
    }
   },
   "outputs": [],
   "source": [
    "# filter out any \"unsubstantiated\" complaints and save as new dataframe\n",
    "indexNames = df[df['disposition_clean'] == 'Unsubstantiated'].index\n",
    "df2 = df.drop(indexNames)\n",
    "\n",
    "# define X and y for 'violated rules' model\n",
    "X2 = df2[features_list]\n",
    "y2 = df2['ruling_conduct_violated_rules']"
   ]
  },
  {
   "cell_type": "code",
   "execution_count": 16,
   "metadata": {
    "ExecuteTime": {
     "end_time": "2020-10-22T23:10:09.800160Z",
     "start_time": "2020-10-22T23:10:09.758021Z"
    }
   },
   "outputs": [],
   "source": [
    "# split into training and test set\n",
    "X2, X2_test, y2, y2_test = train_test_split(\n",
    "    X2, y2, test_size=.2, random_state=33) "
   ]
  },
  {
   "cell_type": "markdown",
   "metadata": {},
   "source": [
    "### Try a bunch of classifiers with cross validation"
   ]
  },
  {
   "cell_type": "code",
   "execution_count": 21,
   "metadata": {
    "ExecuteTime": {
     "end_time": "2020-10-22T23:27:00.649001Z",
     "start_time": "2020-10-22T23:26:10.509146Z"
    }
   },
   "outputs": [
    {
     "name": "stdout",
     "output_type": "stream",
     "text": [
      "LogisticRegression(max_iter=500)\n",
      "0.6907998642918216\n",
      "RandomForestClassifier(random_state=33)\n",
      "0.7530133122231721\n",
      "KNeighborsClassifier(n_neighbors=3)\n",
      "0.687574381983947\n",
      "SVC(random_state=33)\n",
      "0.7087091299765969\n",
      "GradientBoostingClassifier(random_state=33)\n",
      "0.716262507446302\n",
      "GaussianNB()\n",
      "0.594296078653118\n"
     ]
    }
   ],
   "source": [
    "# test the same set of classifiers using same preprocessing techniques\n",
    "get_classifier_scores(X2,y2,clf_models_list,preprocessor)"
   ]
  },
  {
   "cell_type": "markdown",
   "metadata": {},
   "source": [
    "Looks like Random Forest is fitting my data best. Now I'll check to see whether it can be optimized."
   ]
  },
  {
   "cell_type": "markdown",
   "metadata": {
    "ExecuteTime": {
     "end_time": "2020-10-23T00:43:08.365626Z",
     "start_time": "2020-10-23T00:43:08.272009Z"
    }
   },
   "source": [
    "### Baseline Random Forest Performance Metrics"
   ]
  },
  {
   "cell_type": "code",
   "execution_count": 104,
   "metadata": {
    "ExecuteTime": {
     "end_time": "2020-10-23T00:59:01.000183Z",
     "start_time": "2020-10-23T00:58:49.339330Z"
    }
   },
   "outputs": [
    {
     "name": "stdout",
     "output_type": "stream",
     "text": [
      "              precision    recall  f1-score   support\n",
      "\n",
      "           0       0.77      0.76      0.77      6222\n",
      "           1       0.74      0.74      0.74      5560\n",
      "\n",
      "    accuracy                           0.75     11782\n",
      "   macro avg       0.75      0.75      0.75     11782\n",
      "weighted avg       0.75      0.75      0.75     11782\n",
      "\n"
     ]
    },
    {
     "data": {
      "image/png": "[encoded data removed]",
      "text/plain": [
       "<Figure size 432x288 with 2 Axes>"
      ]
     },
     "metadata": {
      "needs_background": "light"
     },
     "output_type": "display_data"
    },
    {
     "data": {
      "image/png": "[encoded data removed]",
      "text/plain": [
       "<Figure size 432x288 with 1 Axes>"
      ]
     },
     "metadata": {
      "needs_background": "light"
     },
     "output_type": "display_data"
    }
   ],
   "source": [
    "get_classifier_performance(X=X2,y=y2,model=RandomForestClassifier(),preprocessor=preprocessor)"
   ]
  },
  {
   "cell_type": "code",
   "execution_count": 152,
   "metadata": {
    "ExecuteTime": {
     "end_time": "2020-10-23T22:32:18.392274Z",
     "start_time": "2020-10-23T22:32:18.361586Z"
    }
   },
   "outputs": [],
   "source": [
    "rf2 = Pipeline(steps=[('preprocessor', preprocessor),\n",
    "                            ('classifier', RandomForestClassifier())])"
   ]
  },
  {
   "cell_type": "code",
   "execution_count": 236,
   "metadata": {
    "ExecuteTime": {
     "end_time": "2020-10-24T00:24:18.908169Z",
     "start_time": "2020-10-24T00:24:18.805820Z"
    }
   },
   "outputs": [],
   "source": [
    "# try actuall getting X and Y\n",
    "X2_processed = Pipeline(steps=[('preprocessor', preprocessor)]).fit(X2)"
   ]
  },
  {
   "cell_type": "code",
   "execution_count": 237,
   "metadata": {
    "ExecuteTime": {
     "end_time": "2020-10-24T00:24:24.915452Z",
     "start_time": "2020-10-24T00:24:24.785287Z"
    }
   },
   "outputs": [
    {
     "data": {
      "text/plain": [
       "Pipeline(steps=[('preprocessor',\n",
       "                 ColumnTransformer(transformers=[('num',\n",
       "                                                  Pipeline(steps=[('imputer',\n",
       "                                                                   SimpleImputer(strategy='median')),\n",
       "                                                                  ('scaler',\n",
       "                                                                   StandardScaler())]),\n",
       "                                                  ['mos_age_incident',\n",
       "                                                   'complainant_age_incident',\n",
       "                                                   'complaint_age',\n",
       "                                                   'officer_cumcount',\n",
       "                                                   'command_rank_num',\n",
       "                                                   'percent_unemployed_mean',\n",
       "                                                   'percent_nohs_mean']),\n",
       "                                                 ('cat',\n",
       "                                                  Pipeline(steps=[('imputer',\n",
       "                                                                   SimpleImputer(fill_value='missing',\n",
       "                                                                                 strategy='constant')),\n",
       "                                                                  ('onehot',\n",
       "                                                                   OneHotEncoder(handle_unknown='ignore'))]),\n",
       "                                                  ['mos_ethnicity',\n",
       "                                                   'mos_gender',\n",
       "                                                   'complainant_ethnicity',\n",
       "                                                   'complainant_gender',\n",
       "                                                   'fado_type',\n",
       "                                                   'contact_reason',\n",
       "                                                   'outcome_description'])]))])"
      ]
     },
     "execution_count": 237,
     "metadata": {},
     "output_type": "execute_result"
    }
   ],
   "source": [
    "X2_processed"
   ]
  },
  {
   "cell_type": "code",
   "execution_count": 222,
   "metadata": {
    "ExecuteTime": {
     "end_time": "2020-10-24T00:06:26.257226Z",
     "start_time": "2020-10-24T00:06:24.959099Z"
    }
   },
   "outputs": [
    {
     "data": {
      "text/html": [
       "<div>\n",
       "<style scoped>\n",
       "    .dataframe tbody tr th:only-of-type {\n",
       "        vertical-align: middle;\n",
       "    }\n",
       "\n",
       "    .dataframe tbody tr th {\n",
       "        vertical-align: top;\n",
       "    }\n",
       "\n",
       "    .dataframe thead th {\n",
       "        text-align: right;\n",
       "    }\n",
       "</style>\n",
       "<table border=\"1\" class=\"dataframe\">\n",
       "  <thead>\n",
       "    <tr style=\"text-align: right;\">\n",
       "      <th></th>\n",
       "      <th>0</th>\n",
       "    </tr>\n",
       "  </thead>\n",
       "  <tbody>\n",
       "    <tr>\n",
       "      <th>num__complaint_age</th>\n",
       "      <td>0.147267</td>\n",
       "    </tr>\n",
       "    <tr>\n",
       "      <th>num__complainant_age_incident</th>\n",
       "      <td>0.101155</td>\n",
       "    </tr>\n",
       "    <tr>\n",
       "      <th>num__mos_age_incident</th>\n",
       "      <td>0.086649</td>\n",
       "    </tr>\n",
       "    <tr>\n",
       "      <th>num__percent_nohs_mean</th>\n",
       "      <td>0.086571</td>\n",
       "    </tr>\n",
       "    <tr>\n",
       "      <th>num__percent_unemployed_mean</th>\n",
       "      <td>0.085877</td>\n",
       "    </tr>\n",
       "    <tr>\n",
       "      <th>onehot__x4_Force</th>\n",
       "      <td>0.064865</td>\n",
       "    </tr>\n",
       "    <tr>\n",
       "      <th>num__officer_cumcount</th>\n",
       "      <td>0.063832</td>\n",
       "    </tr>\n",
       "    <tr>\n",
       "      <th>onehot__x6_Arrest</th>\n",
       "      <td>0.031032</td>\n",
       "    </tr>\n",
       "    <tr>\n",
       "      <th>onehot__x4_Discourtesy</th>\n",
       "      <td>0.027408</td>\n",
       "    </tr>\n",
       "    <tr>\n",
       "      <th>onehot__x4_Abuse of Authority</th>\n",
       "      <td>0.026999</td>\n",
       "    </tr>\n",
       "    <tr>\n",
       "      <th>num__command_rank_num</th>\n",
       "      <td>0.026480</td>\n",
       "    </tr>\n",
       "    <tr>\n",
       "      <th>onehot__x6_None</th>\n",
       "      <td>0.025780</td>\n",
       "    </tr>\n",
       "    <tr>\n",
       "      <th>onehot__x5_PD suspected C/V of violation/crime - street</th>\n",
       "      <td>0.016181</td>\n",
       "    </tr>\n",
       "    <tr>\n",
       "      <th>onehot__x0_White</th>\n",
       "      <td>0.015220</td>\n",
       "    </tr>\n",
       "    <tr>\n",
       "      <th>onehot__x5_Other</th>\n",
       "      <td>0.015006</td>\n",
       "    </tr>\n",
       "    <tr>\n",
       "      <th>onehot__x2_Black</th>\n",
       "      <td>0.014845</td>\n",
       "    </tr>\n",
       "    <tr>\n",
       "      <th>onehot__x0_Hispanic</th>\n",
       "      <td>0.014565</td>\n",
       "    </tr>\n",
       "    <tr>\n",
       "      <th>onehot__x2_Hispanic</th>\n",
       "      <td>0.012305</td>\n",
       "    </tr>\n",
       "    <tr>\n",
       "      <th>onehot__x0_Black</th>\n",
       "      <td>0.011534</td>\n",
       "    </tr>\n",
       "    <tr>\n",
       "      <th>onehot__x5_PD suspected C/V of violation/crime - auto</th>\n",
       "      <td>0.009660</td>\n",
       "    </tr>\n",
       "    <tr>\n",
       "      <th>onehot__x3_Female</th>\n",
       "      <td>0.008899</td>\n",
       "    </tr>\n",
       "    <tr>\n",
       "      <th>onehot__x3_Male</th>\n",
       "      <td>0.008837</td>\n",
       "    </tr>\n",
       "    <tr>\n",
       "      <th>onehot__x2_White</th>\n",
       "      <td>0.008827</td>\n",
       "    </tr>\n",
       "    <tr>\n",
       "      <th>onehot__x5_PD suspected C/V of violation/crime - bldg</th>\n",
       "      <td>0.008707</td>\n",
       "    </tr>\n",
       "    <tr>\n",
       "      <th>onehot__x6_Summons</th>\n",
       "      <td>0.008566</td>\n",
       "    </tr>\n",
       "    <tr>\n",
       "      <th>onehot__x5_Moving violation</th>\n",
       "      <td>0.008009</td>\n",
       "    </tr>\n",
       "    <tr>\n",
       "      <th>onehot__x2_Other</th>\n",
       "      <td>0.007667</td>\n",
       "    </tr>\n",
       "    <tr>\n",
       "      <th>onehot__x5_Other violation of VTL</th>\n",
       "      <td>0.006457</td>\n",
       "    </tr>\n",
       "    <tr>\n",
       "      <th>onehot__x0_Asian</th>\n",
       "      <td>0.005582</td>\n",
       "    </tr>\n",
       "    <tr>\n",
       "      <th>onehot__x1_M</th>\n",
       "      <td>0.005314</td>\n",
       "    </tr>\n",
       "    <tr>\n",
       "      <th>onehot__x1_F</th>\n",
       "      <td>0.004948</td>\n",
       "    </tr>\n",
       "    <tr>\n",
       "      <th>onehot__x5_Report of other crime</th>\n",
       "      <td>0.004925</td>\n",
       "    </tr>\n",
       "    <tr>\n",
       "      <th>onehot__x5_Report-dispute</th>\n",
       "      <td>0.004402</td>\n",
       "    </tr>\n",
       "    <tr>\n",
       "      <th>onehot__x5_Parking violation</th>\n",
       "      <td>0.003812</td>\n",
       "    </tr>\n",
       "    <tr>\n",
       "      <th>onehot__x4_Offensive Language</th>\n",
       "      <td>0.003810</td>\n",
       "    </tr>\n",
       "    <tr>\n",
       "      <th>onehot__x5_C/V intervened on behalf of/observed encounter w/3rd party</th>\n",
       "      <td>0.003598</td>\n",
       "    </tr>\n",
       "    <tr>\n",
       "      <th>onehot__x2_Asian</th>\n",
       "      <td>0.003423</td>\n",
       "    </tr>\n",
       "    <tr>\n",
       "      <th>onehot__x5_Report-gun possession/shots fired</th>\n",
       "      <td>0.003096</td>\n",
       "    </tr>\n",
       "    <tr>\n",
       "      <th>onehot__x5_Report-domestic dispute</th>\n",
       "      <td>0.002915</td>\n",
       "    </tr>\n",
       "    <tr>\n",
       "      <th>onehot__x5_Execution of search warrant</th>\n",
       "      <td>0.002046</td>\n",
       "    </tr>\n",
       "    <tr>\n",
       "      <th>onehot__x5_missing</th>\n",
       "      <td>0.000874</td>\n",
       "    </tr>\n",
       "    <tr>\n",
       "      <th>onehot__x2_American Indian</th>\n",
       "      <td>0.000725</td>\n",
       "    </tr>\n",
       "    <tr>\n",
       "      <th>onehot__x3_Other</th>\n",
       "      <td>0.000624</td>\n",
       "    </tr>\n",
       "    <tr>\n",
       "      <th>onehot__x6_Other</th>\n",
       "      <td>0.000559</td>\n",
       "    </tr>\n",
       "    <tr>\n",
       "      <th>onehot__x0_American Indian</th>\n",
       "      <td>0.000147</td>\n",
       "    </tr>\n",
       "  </tbody>\n",
       "</table>\n",
       "</div>"
      ],
      "text/plain": [
       "                                                           0\n",
       "num__complaint_age                                  0.147267\n",
       "num__complainant_age_incident                       0.101155\n",
       "num__mos_age_incident                               0.086649\n",
       "num__percent_nohs_mean                              0.086571\n",
       "num__percent_unemployed_mean                        0.085877\n",
       "onehot__x4_Force                                    0.064865\n",
       "num__officer_cumcount                               0.063832\n",
       "onehot__x6_Arrest                                   0.031032\n",
       "onehot__x4_Discourtesy                              0.027408\n",
       "onehot__x4_Abuse of Authority                       0.026999\n",
       "num__command_rank_num                               0.026480\n",
       "onehot__x6_None                                     0.025780\n",
       "onehot__x5_PD suspected C/V of violation/crime ...  0.016181\n",
       "onehot__x0_White                                    0.015220\n",
       "onehot__x5_Other                                    0.015006\n",
       "onehot__x2_Black                                    0.014845\n",
       "onehot__x0_Hispanic                                 0.014565\n",
       "onehot__x2_Hispanic                                 0.012305\n",
       "onehot__x0_Black                                    0.011534\n",
       "onehot__x5_PD suspected C/V of violation/crime ...  0.009660\n",
       "onehot__x3_Female                                   0.008899\n",
       "onehot__x3_Male                                     0.008837\n",
       "onehot__x2_White                                    0.008827\n",
       "onehot__x5_PD suspected C/V of violation/crime ...  0.008707\n",
       "onehot__x6_Summons                                  0.008566\n",
       "onehot__x5_Moving violation                         0.008009\n",
       "onehot__x2_Other                                    0.007667\n",
       "onehot__x5_Other violation of VTL                   0.006457\n",
       "onehot__x0_Asian                                    0.005582\n",
       "onehot__x1_M                                        0.005314\n",
       "onehot__x1_F                                        0.004948\n",
       "onehot__x5_Report of other crime                    0.004925\n",
       "onehot__x5_Report-dispute                           0.004402\n",
       "onehot__x5_Parking violation                        0.003812\n",
       "onehot__x4_Offensive Language                       0.003810\n",
       "onehot__x5_C/V intervened on behalf of/observed...  0.003598\n",
       "onehot__x2_Asian                                    0.003423\n",
       "onehot__x5_Report-gun possession/shots fired        0.003096\n",
       "onehot__x5_Report-domestic dispute                  0.002915\n",
       "onehot__x5_Execution of search warrant              0.002046\n",
       "onehot__x5_missing                                  0.000874\n",
       "onehot__x2_American Indian                          0.000725\n",
       "onehot__x3_Other                                    0.000624\n",
       "onehot__x6_Other                                    0.000559\n",
       "onehot__x0_American Indian                          0.000147"
      ]
     },
     "execution_count": 222,
     "metadata": {},
     "output_type": "execute_result"
    }
   ],
   "source": [
    "# fit final model\n",
    "rf2.fit(X2,y2)\n",
    "\n",
    "# extract feature names and importance from model\n",
    "feature2_importance =pd.DataFrame(rf2.named_steps['classifier'].feature_importances_.flatten(), \n",
    "                                  index=get_feature_names(preprocessor))\n",
    "\n",
    "# print feature names and importance in df\n",
    "feature2_importance.sort_values(0,ascending=False)"
   ]
  },
  {
   "cell_type": "markdown",
   "metadata": {},
   "source": [
    "Note: credit to [Johannes Haupt](https://johaupt.github.io/scikit-learn/tutorial/python/data%20processing/ml%20pipeline/model%20interpretation/columnTransformer_feature_names.html) for the get_feature_names function."
   ]
  },
  {
   "cell_type": "code",
   "execution_count": 221,
   "metadata": {
    "ExecuteTime": {
     "end_time": "2020-10-24T00:05:11.863256Z",
     "start_time": "2020-10-24T00:05:11.830301Z"
    }
   },
   "outputs": [],
   "source": [
    "from sklearn.inspection import plot_partial_dependence"
   ]
  },
  {
   "cell_type": "code",
   "execution_count": 241,
   "metadata": {
    "ExecuteTime": {
     "end_time": "2020-10-24T00:32:12.339448Z",
     "start_time": "2020-10-24T00:30:43.470990Z"
    }
   },
   "outputs": [
    {
     "data": {
      "text/plain": [
       "<sklearn.inspection._plot.partial_dependence.PartialDependenceDisplay at 0x7f8616824e80>"
      ]
     },
     "execution_count": 241,
     "metadata": {},
     "output_type": "execute_result"
    },
    {
     "data": {
      "image/png": "[encoded data removed]",
      "text/plain": [
       "<Figure size 576x396 with 6 Axes>"
      ]
     },
     "metadata": {},
     "output_type": "display_data"
    }
   ],
   "source": [
    "pdp_features = ['complaint_age','complainant_age_incident','mos_age_incident',\n",
    "               'percent_nohs_mean','percent_unemployed_mean']\n",
    "\n",
    "plot_partial_dependence(rf2, X2, pdp_features);"
   ]
  },
  {
   "cell_type": "code",
   "execution_count": 220,
   "metadata": {
    "ExecuteTime": {
     "end_time": "2020-10-24T00:05:04.485292Z",
     "start_time": "2020-10-24T00:05:04.382363Z"
    }
   },
   "outputs": [],
   "source": [
    "# print heatmap to understand the direction of random forest feature importances\n",
    "#sns.heatmap(df2[features_list])\n"
   ]
  }
 ],
 "metadata": {
  "kernelspec": {
   "display_name": "Python 3",
   "language": "python",
   "name": "python3"
  },
  "language_info": {
   "codemirror_mode": {
    "name": "ipython",
    "version": 3
   },
   "file_extension": ".py",
   "mimetype": "text/x-python",
   "name": "python",
   "nbconvert_exporter": "python",
   "pygments_lexer": "ipython3",
   "version": "3.8.3"
  },
  "toc": {
   "base_numbering": 1,
   "nav_menu": {},
   "number_sections": true,
   "sideBar": true,
   "skip_h1_title": false,
   "title_cell": "Table of Contents",
   "title_sidebar": "Contents",
   "toc_cell": false,
   "toc_position": {
    "height": "calc(100% - 180px)",
    "left": "10px",
    "top": "150px",
    "width": "277px"
   },
   "toc_section_display": true,
   "toc_window_display": true
  }
 },
 "nbformat": 4,
 "nbformat_minor": 2
}
