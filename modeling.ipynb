{
 "cells": [
  {
   "cell_type": "markdown",
   "metadata": {
    "ExecuteTime": {
     "end_time": "2020-10-22T23:05:11.904558Z",
     "start_time": "2020-10-22T23:05:11.868593Z"
    }
   },
   "source": [
    "## Load packages and data"
   ]
  },
  {
   "cell_type": "code",
   "execution_count": 97,
   "metadata": {
    "ExecuteTime": {
     "end_time": "2020-10-23T00:52:36.770782Z",
     "start_time": "2020-10-23T00:52:36.726263Z"
    }
   },
   "outputs": [],
   "source": [
    "import pickle\n",
    "import numpy as np\n",
    "import pandas as pd \n",
    "import matplotlib.pyplot as plt\n",
    "import seaborn as sns\n",
    "from sklearn.model_selection import train_test_split\n",
    "from sklearn.preprocessing import StandardScaler\n",
    "from sklearn.metrics import confusion_matrix, classification_report, roc_curve, roc_auc_score\n",
    "from sklearn.pipeline import Pipeline\n",
    "from sklearn.compose import ColumnTransformer\n",
    "from sklearn.impute import SimpleImputer\n",
    "from sklearn.preprocessing import StandardScaler, OneHotEncoder\n",
    "from sklearn.neighbors import KNeighborsClassifier\n",
    "from sklearn.svm import SVC\n",
    "from sklearn.ensemble import RandomForestClassifier, GradientBoostingClassifier\n",
    "from sklearn.linear_model import LogisticRegression\n",
    "from sklearn.model_selection import cross_val_score, cross_val_predict, StratifiedKFold\n",
    "from sklearn.naive_bayes import GaussianNB\n",
    "from modeling import get_classifier_scores, get_classifier_performance"
   ]
  },
  {
   "cell_type": "code",
   "execution_count": 68,
   "metadata": {
    "ExecuteTime": {
     "end_time": "2020-10-23T00:24:30.057737Z",
     "start_time": "2020-10-23T00:24:30.024843Z"
    }
   },
   "outputs": [
    {
     "name": "stdout",
     "output_type": "stream",
     "text": [
      "The autoreload extension is already loaded. To reload it, use:\n",
      "  %reload_ext autoreload\n"
     ]
    }
   ],
   "source": [
    "%load_ext autoreload\n",
    "%autoreload 2"
   ]
  },
  {
   "cell_type": "code",
   "execution_count": 69,
   "metadata": {
    "ExecuteTime": {
     "end_time": "2020-10-23T00:24:30.198840Z",
     "start_time": "2020-10-23T00:24:30.062319Z"
    }
   },
   "outputs": [],
   "source": [
    "df = pickle.load(open(\"processed_data.pickle\", \"rb\"))"
   ]
  },
  {
   "cell_type": "markdown",
   "metadata": {},
   "source": [
    "## Model 1: \"Conduct Occurred\" ruling\n",
    "This model will apply to the entire dataset, and try to predict whether the CCRB determines that a complaint did occur (i.e. was ruled \"substantiated\" or \"exonerated\")."
   ]
  },
  {
   "cell_type": "markdown",
   "metadata": {},
   "source": [
    "### Define features + target,  preprocessing steps and to train/test split"
   ]
  },
  {
   "cell_type": "code",
   "execution_count": 106,
   "metadata": {
    "ExecuteTime": {
     "end_time": "2020-10-23T01:05:05.274359Z",
     "start_time": "2020-10-23T01:05:05.225907Z"
    }
   },
   "outputs": [],
   "source": [
    "# define features and target\n",
    "# consider adding precinct as categorical variable\n",
    "features_list = ['mos_age_incident', 'complainant_age_incident', 'complaint_age', 'complaint_is_grouped',\n",
    "                 'officer_cumcount', 'command_rank_num', 'percent_unemployed_mean', 'percent_nohs_mean', 'mos_ethnicity',\n",
    "                 'mos_gender', 'complainant_ethnicity', 'complainant_gender', 'fado_type', 'contact_reason', 'outcome_description']\n",
    "\n",
    "X1 = df[features_list]\n",
    "y1 = df['ruling_conduct_occurred']"
   ]
  },
  {
   "cell_type": "code",
   "execution_count": 107,
   "metadata": {
    "ExecuteTime": {
     "end_time": "2020-10-23T01:05:06.013502Z",
     "start_time": "2020-10-23T01:05:05.977914Z"
    }
   },
   "outputs": [],
   "source": [
    "# define numeric and categorical features\n",
    "numeric_features = ['mos_age_incident', 'complainant_age_incident', 'complaint_age', 'officer_cumcount',\n",
    "                    'command_rank_num', 'percent_unemployed_mean', 'percent_nohs_mean']\n",
    "categorical_features = ['mos_ethnicity', 'mos_gender', 'complainant_ethnicity', 'complainant_gender',\n",
    "                        'fado_type', 'contact_reason', 'outcome_description']"
   ]
  },
  {
   "cell_type": "code",
   "execution_count": 108,
   "metadata": {
    "ExecuteTime": {
     "end_time": "2020-10-23T01:05:06.803786Z",
     "start_time": "2020-10-23T01:05:06.766030Z"
    }
   },
   "outputs": [],
   "source": [
    "# create preprocessor pipeline steps to process numeric and categorical data\n",
    "numeric_transformer = Pipeline(steps=[\n",
    "    ('imputer', SimpleImputer(strategy='median')),\n",
    "    ('scaler', StandardScaler())])\n",
    "\n",
    "categorical_transformer = Pipeline(steps=[\n",
    "    ('imputer', SimpleImputer(strategy='constant', fill_value='missing')),\n",
    "    ('onehot', OneHotEncoder(handle_unknown='ignore'))])\n",
    "\n",
    "preprocessor = ColumnTransformer(\n",
    "    transformers=[\n",
    "        ('num', numeric_transformer, numeric_features),\n",
    "        ('cat', categorical_transformer, categorical_features)])"
   ]
  },
  {
   "cell_type": "code",
   "execution_count": 109,
   "metadata": {
    "ExecuteTime": {
     "end_time": "2020-10-23T01:05:09.628900Z",
     "start_time": "2020-10-23T01:05:09.577577Z"
    }
   },
   "outputs": [],
   "source": [
    "# split data into training and test set\n",
    "X1, X1_test, y1, y1_test = train_test_split(\n",
    "    X1, y1, test_size=.2, random_state=33) "
   ]
  },
  {
   "cell_type": "markdown",
   "metadata": {},
   "source": [
    "### Try a bunch of classifiers with cross-validation"
   ]
  },
  {
   "cell_type": "code",
   "execution_count": 74,
   "metadata": {
    "ExecuteTime": {
     "end_time": "2020-10-23T00:24:30.415503Z",
     "start_time": "2020-10-23T00:24:30.382399Z"
    }
   },
   "outputs": [],
   "source": [
    "clf_models_list = [\n",
    "    LogisticRegression(max_iter=500),\n",
    "    RandomForestClassifier(random_state=33),\n",
    "    KNeighborsClassifier(3),\n",
    "    SVC(random_state=33),\n",
    "    GradientBoostingClassifier(random_state=33),\n",
    "    GaussianNB()\n",
    "    ]"
   ]
  },
  {
   "cell_type": "code",
   "execution_count": 75,
   "metadata": {
    "ExecuteTime": {
     "end_time": "2020-10-23T00:27:35.615925Z",
     "start_time": "2020-10-23T00:24:30.417634Z"
    }
   },
   "outputs": [
    {
     "name": "stdout",
     "output_type": "stream",
     "text": [
      "LogisticRegression(max_iter=500)\n",
      "0.6194487813409999\n",
      "RandomForestClassifier(random_state=33)\n",
      "0.6729936863685682\n",
      "KNeighborsClassifier(n_neighbors=3)\n",
      "0.621082744673315\n",
      "SVC(random_state=33)\n",
      "0.632559171720154\n",
      "GradientBoostingClassifier(random_state=33)\n",
      "0.6369735786290469\n",
      "GaussianNB()\n",
      "0.601306467148313\n"
     ]
    }
   ],
   "source": [
    "# test the same set of classifiers using same preprocessing techniques\n",
    "get_classifier_scores(X1,y1,clf_models_list,preprocessor)"
   ]
  },
  {
   "cell_type": "markdown",
   "metadata": {},
   "source": [
    "Looks like Random Forest fits my data best of the models tried. Now I'll examine some additional metrics and then see if I can optimize the model."
   ]
  },
  {
   "cell_type": "markdown",
   "metadata": {},
   "source": [
    "### Baseline Random Forest Performance Metrics"
   ]
  },
  {
   "cell_type": "code",
   "execution_count": 110,
   "metadata": {
    "ExecuteTime": {
     "end_time": "2020-10-23T01:05:36.185928Z",
     "start_time": "2020-10-23T01:05:13.751435Z"
    }
   },
   "outputs": [
    {
     "name": "stdout",
     "output_type": "stream",
     "text": [
      "              precision    recall  f1-score   support\n",
      "\n",
      "           0       0.67      0.62      0.64     10844\n",
      "           1       0.67      0.72      0.70     11810\n",
      "\n",
      "    accuracy                           0.67     22654\n",
      "   macro avg       0.67      0.67      0.67     22654\n",
      "weighted avg       0.67      0.67      0.67     22654\n",
      "\n"
     ]
    },
    {
     "data": {
      "image/png": "[encoded data removed]",
      "text/plain": [
       "<Figure size 432x288 with 2 Axes>"
      ]
     },
     "metadata": {
      "needs_background": "light"
     },
     "output_type": "display_data"
    },
    {
     "data": {
      "image/png": "[encoded data removed]",
      "text/plain": [
       "<Figure size 432x288 with 1 Axes>"
      ]
     },
     "metadata": {
      "needs_background": "light"
     },
     "output_type": "display_data"
    }
   ],
   "source": [
    "get_classifier_performance(X=X1,y=y1,model=RandomForestClassifier(),preprocessor=preprocessor)"
   ]
  },
  {
   "cell_type": "markdown",
   "metadata": {
    "heading_collapsed": true
   },
   "source": [
    "## Model 2: \"Violated Rules\" ruling\n",
    "This model will apply only to complaints that the CCRB determined _did_ occur, and try to predict whether the complaint is ruled \"substantiated\" (the officer's conduct violated rules) or \"exonerated\" (the officer's conduct did not violate NYPD rules).\\"
   ]
  },
  {
   "cell_type": "markdown",
   "metadata": {
    "hidden": true
   },
   "source": [
    "### Define features + target,  preprocessing steps and to train/test split\n",
    "Will use the same set of preprocessing steps as Model 1, since features are the same."
   ]
  },
  {
   "cell_type": "code",
   "execution_count": 15,
   "metadata": {
    "ExecuteTime": {
     "end_time": "2020-10-22T23:10:07.467623Z",
     "start_time": "2020-10-22T23:10:07.405695Z"
    },
    "hidden": true
   },
   "outputs": [],
   "source": [
    "# filter out any \"unsubstantiated\" complaints and save as new dataframe\n",
    "indexNames = df[df['disposition_clean'] == 'Unsubstantiated'].index\n",
    "df2 = df.drop(indexNames)\n",
    "\n",
    "# define X and y for 'violated rules' model\n",
    "X2 = df2[features_list]\n",
    "y2 = df2['ruling_conduct_violated_rules']"
   ]
  },
  {
   "cell_type": "code",
   "execution_count": 16,
   "metadata": {
    "ExecuteTime": {
     "end_time": "2020-10-22T23:10:09.800160Z",
     "start_time": "2020-10-22T23:10:09.758021Z"
    },
    "hidden": true
   },
   "outputs": [],
   "source": [
    "# split into training and test set\n",
    "X2, X2_test, y2, y2_test = train_test_split(\n",
    "    X2, y2, test_size=.2, random_state=33) "
   ]
  },
  {
   "cell_type": "code",
   "execution_count": 21,
   "metadata": {
    "ExecuteTime": {
     "end_time": "2020-10-22T23:27:00.649001Z",
     "start_time": "2020-10-22T23:26:10.509146Z"
    },
    "hidden": true
   },
   "outputs": [
    {
     "name": "stdout",
     "output_type": "stream",
     "text": [
      "LogisticRegression(max_iter=500)\n",
      "0.6907998642918216\n",
      "RandomForestClassifier(random_state=33)\n",
      "0.7530133122231721\n",
      "KNeighborsClassifier(n_neighbors=3)\n",
      "0.687574381983947\n",
      "SVC(random_state=33)\n",
      "0.7087091299765969\n",
      "GradientBoostingClassifier(random_state=33)\n",
      "0.716262507446302\n",
      "GaussianNB()\n",
      "0.594296078653118\n"
     ]
    }
   ],
   "source": [
    "# test the same set of classifiers using same preprocessing techniques\n",
    "get_classifier_scores(X2,y2,clf_models_list,preprocessor)"
   ]
  },
  {
   "cell_type": "markdown",
   "metadata": {
    "hidden": true
   },
   "source": [
    "Looks like Random Forest is fitting my data best. Now I'll check to see whether it can be optimized."
   ]
  },
  {
   "cell_type": "markdown",
   "metadata": {
    "ExecuteTime": {
     "end_time": "2020-10-23T00:43:08.365626Z",
     "start_time": "2020-10-23T00:43:08.272009Z"
    },
    "hidden": true
   },
   "source": [
    "### Baseline Random Forest Performance Metrics"
   ]
  },
  {
   "cell_type": "code",
   "execution_count": 104,
   "metadata": {
    "ExecuteTime": {
     "end_time": "2020-10-23T00:59:01.000183Z",
     "start_time": "2020-10-23T00:58:49.339330Z"
    },
    "hidden": true
   },
   "outputs": [
    {
     "name": "stdout",
     "output_type": "stream",
     "text": [
      "              precision    recall  f1-score   support\n",
      "\n",
      "           0       0.77      0.76      0.77      6222\n",
      "           1       0.74      0.74      0.74      5560\n",
      "\n",
      "    accuracy                           0.75     11782\n",
      "   macro avg       0.75      0.75      0.75     11782\n",
      "weighted avg       0.75      0.75      0.75     11782\n",
      "\n"
     ]
    },
    {
     "data": {
      "image/png": "[encoded data removed]",
      "text/plain": [
       "<Figure size 432x288 with 2 Axes>"
      ]
     },
     "metadata": {
      "needs_background": "light"
     },
     "output_type": "display_data"
    },
    {
     "data": {
      "image/png": "[encoded data removed]",
      "text/plain": [
       "<Figure size 432x288 with 1 Axes>"
      ]
     },
     "metadata": {
      "needs_background": "light"
     },
     "output_type": "display_data"
    }
   ],
   "source": [
    "get_classifier_performance(X=X2,y=y2,model=RandomForestClassifier(),preprocessor=preprocessor)"
   ]
  },
  {
   "cell_type": "code",
   "execution_count": null,
   "metadata": {
    "hidden": true
   },
   "outputs": [],
   "source": []
  }
 ],
 "metadata": {
  "kernelspec": {
   "display_name": "Python 3",
   "language": "python",
   "name": "python3"
  },
  "language_info": {
   "codemirror_mode": {
    "name": "ipython",
    "version": 3
   },
   "file_extension": ".py",
   "mimetype": "text/x-python",
   "name": "python",
   "nbconvert_exporter": "python",
   "pygments_lexer": "ipython3",
   "version": "3.8.3"
  },
  "toc": {
   "base_numbering": 1,
   "nav_menu": {},
   "number_sections": true,
   "sideBar": true,
   "skip_h1_title": false,
   "title_cell": "Table of Contents",
   "title_sidebar": "Contents",
   "toc_cell": false,
   "toc_position": {
    "height": "calc(100% - 180px)",
    "left": "10px",
    "top": "150px",
    "width": "279.797px"
   },
   "toc_section_display": true,
   "toc_window_display": true
  }
 },
 "nbformat": 4,
 "nbformat_minor": 2
}
